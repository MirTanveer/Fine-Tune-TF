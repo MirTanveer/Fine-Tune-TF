{
  "cells": [
    {
      "cell_type": "markdown",
      "source": [
        "# PEFT using LoRA (Low-rank Adapation of LLMs)\n",
        "\n",
        "We are targeting four modules during fine-tuning: \"Query\", \"Key\", \"Value\", and \"Dense\"."
      ],
      "metadata": {
        "id": "smF0ukdTvrFq"
      },
      "id": "smF0ukdTvrFq"
    },
    {
      "cell_type": "markdown",
      "source": [
        "# Install Packages"
      ],
      "metadata": {
        "id": "mGfuWjKzwB_I"
      },
      "id": "mGfuWjKzwB_I"
    },
    {
      "cell_type": "code",
      "source": [
        "!pip install datasets\n",
        "!pip install evaluate\n",
        "!pip install SentencePiece\n",
        "!pip install transformers[torch]\n",
        "!pip install peft\n",
        "!pip install Biopython\n",
        "!pip install mpi4py"
      ],
      "metadata": {
        "colab": {
          "base_uri": "https://localhost:8080/"
        },
        "id": "KveEQppzyVkn",
        "outputId": "a6c8a1bb-3f0c-4fb2-966d-73d1455686b6"
      },
      "execution_count": 1,
      "outputs": [
        {
          "output_type": "stream",
          "name": "stdout",
          "text": [
            "Requirement already satisfied: datasets in /usr/local/lib/python3.12/dist-packages (4.0.0)\n",
            "Requirement already satisfied: filelock in /usr/local/lib/python3.12/dist-packages (from datasets) (3.20.0)\n",
            "Requirement already satisfied: numpy>=1.17 in /usr/local/lib/python3.12/dist-packages (from datasets) (2.0.2)\n",
            "Requirement already satisfied: pyarrow>=15.0.0 in /usr/local/lib/python3.12/dist-packages (from datasets) (18.1.0)\n",
            "Requirement already satisfied: dill<0.3.9,>=0.3.0 in /usr/local/lib/python3.12/dist-packages (from datasets) (0.3.8)\n",
            "Requirement already satisfied: pandas in /usr/local/lib/python3.12/dist-packages (from datasets) (2.2.2)\n",
            "Requirement already satisfied: requests>=2.32.2 in /usr/local/lib/python3.12/dist-packages (from datasets) (2.32.4)\n",
            "Requirement already satisfied: tqdm>=4.66.3 in /usr/local/lib/python3.12/dist-packages (from datasets) (4.67.1)\n",
            "Requirement already satisfied: xxhash in /usr/local/lib/python3.12/dist-packages (from datasets) (3.6.0)\n",
            "Requirement already satisfied: multiprocess<0.70.17 in /usr/local/lib/python3.12/dist-packages (from datasets) (0.70.16)\n",
            "Requirement already satisfied: fsspec<=2025.3.0,>=2023.1.0 in /usr/local/lib/python3.12/dist-packages (from fsspec[http]<=2025.3.0,>=2023.1.0->datasets) (2025.3.0)\n",
            "Requirement already satisfied: huggingface-hub>=0.24.0 in /usr/local/lib/python3.12/dist-packages (from datasets) (0.35.3)\n",
            "Requirement already satisfied: packaging in /usr/local/lib/python3.12/dist-packages (from datasets) (25.0)\n",
            "Requirement already satisfied: pyyaml>=5.1 in /usr/local/lib/python3.12/dist-packages (from datasets) (6.0.3)\n",
            "Requirement already satisfied: aiohttp!=4.0.0a0,!=4.0.0a1 in /usr/local/lib/python3.12/dist-packages (from fsspec[http]<=2025.3.0,>=2023.1.0->datasets) (3.13.1)\n",
            "Requirement already satisfied: typing-extensions>=3.7.4.3 in /usr/local/lib/python3.12/dist-packages (from huggingface-hub>=0.24.0->datasets) (4.15.0)\n",
            "Requirement already satisfied: hf-xet<2.0.0,>=1.1.3 in /usr/local/lib/python3.12/dist-packages (from huggingface-hub>=0.24.0->datasets) (1.1.10)\n",
            "Requirement already satisfied: charset_normalizer<4,>=2 in /usr/local/lib/python3.12/dist-packages (from requests>=2.32.2->datasets) (3.4.4)\n",
            "Requirement already satisfied: idna<4,>=2.5 in /usr/local/lib/python3.12/dist-packages (from requests>=2.32.2->datasets) (3.11)\n",
            "Requirement already satisfied: urllib3<3,>=1.21.1 in /usr/local/lib/python3.12/dist-packages (from requests>=2.32.2->datasets) (2.5.0)\n",
            "Requirement already satisfied: certifi>=2017.4.17 in /usr/local/lib/python3.12/dist-packages (from requests>=2.32.2->datasets) (2025.10.5)\n",
            "Requirement already satisfied: python-dateutil>=2.8.2 in /usr/local/lib/python3.12/dist-packages (from pandas->datasets) (2.9.0.post0)\n",
            "Requirement already satisfied: pytz>=2020.1 in /usr/local/lib/python3.12/dist-packages (from pandas->datasets) (2025.2)\n",
            "Requirement already satisfied: tzdata>=2022.7 in /usr/local/lib/python3.12/dist-packages (from pandas->datasets) (2025.2)\n",
            "Requirement already satisfied: aiohappyeyeballs>=2.5.0 in /usr/local/lib/python3.12/dist-packages (from aiohttp!=4.0.0a0,!=4.0.0a1->fsspec[http]<=2025.3.0,>=2023.1.0->datasets) (2.6.1)\n",
            "Requirement already satisfied: aiosignal>=1.4.0 in /usr/local/lib/python3.12/dist-packages (from aiohttp!=4.0.0a0,!=4.0.0a1->fsspec[http]<=2025.3.0,>=2023.1.0->datasets) (1.4.0)\n",
            "Requirement already satisfied: attrs>=17.3.0 in /usr/local/lib/python3.12/dist-packages (from aiohttp!=4.0.0a0,!=4.0.0a1->fsspec[http]<=2025.3.0,>=2023.1.0->datasets) (25.4.0)\n",
            "Requirement already satisfied: frozenlist>=1.1.1 in /usr/local/lib/python3.12/dist-packages (from aiohttp!=4.0.0a0,!=4.0.0a1->fsspec[http]<=2025.3.0,>=2023.1.0->datasets) (1.8.0)\n",
            "Requirement already satisfied: multidict<7.0,>=4.5 in /usr/local/lib/python3.12/dist-packages (from aiohttp!=4.0.0a0,!=4.0.0a1->fsspec[http]<=2025.3.0,>=2023.1.0->datasets) (6.7.0)\n",
            "Requirement already satisfied: propcache>=0.2.0 in /usr/local/lib/python3.12/dist-packages (from aiohttp!=4.0.0a0,!=4.0.0a1->fsspec[http]<=2025.3.0,>=2023.1.0->datasets) (0.4.1)\n",
            "Requirement already satisfied: yarl<2.0,>=1.17.0 in /usr/local/lib/python3.12/dist-packages (from aiohttp!=4.0.0a0,!=4.0.0a1->fsspec[http]<=2025.3.0,>=2023.1.0->datasets) (1.22.0)\n",
            "Requirement already satisfied: six>=1.5 in /usr/local/lib/python3.12/dist-packages (from python-dateutil>=2.8.2->pandas->datasets) (1.17.0)\n",
            "Requirement already satisfied: evaluate in /usr/local/lib/python3.12/dist-packages (0.4.6)\n",
            "Requirement already satisfied: datasets>=2.0.0 in /usr/local/lib/python3.12/dist-packages (from evaluate) (4.0.0)\n",
            "Requirement already satisfied: numpy>=1.17 in /usr/local/lib/python3.12/dist-packages (from evaluate) (2.0.2)\n",
            "Requirement already satisfied: dill in /usr/local/lib/python3.12/dist-packages (from evaluate) (0.3.8)\n",
            "Requirement already satisfied: pandas in /usr/local/lib/python3.12/dist-packages (from evaluate) (2.2.2)\n",
            "Requirement already satisfied: requests>=2.19.0 in /usr/local/lib/python3.12/dist-packages (from evaluate) (2.32.4)\n",
            "Requirement already satisfied: tqdm>=4.62.1 in /usr/local/lib/python3.12/dist-packages (from evaluate) (4.67.1)\n",
            "Requirement already satisfied: xxhash in /usr/local/lib/python3.12/dist-packages (from evaluate) (3.6.0)\n",
            "Requirement already satisfied: multiprocess in /usr/local/lib/python3.12/dist-packages (from evaluate) (0.70.16)\n",
            "Requirement already satisfied: fsspec>=2021.05.0 in /usr/local/lib/python3.12/dist-packages (from fsspec[http]>=2021.05.0->evaluate) (2025.3.0)\n",
            "Requirement already satisfied: huggingface-hub>=0.7.0 in /usr/local/lib/python3.12/dist-packages (from evaluate) (0.35.3)\n",
            "Requirement already satisfied: packaging in /usr/local/lib/python3.12/dist-packages (from evaluate) (25.0)\n",
            "Requirement already satisfied: filelock in /usr/local/lib/python3.12/dist-packages (from datasets>=2.0.0->evaluate) (3.20.0)\n",
            "Requirement already satisfied: pyarrow>=15.0.0 in /usr/local/lib/python3.12/dist-packages (from datasets>=2.0.0->evaluate) (18.1.0)\n",
            "Requirement already satisfied: pyyaml>=5.1 in /usr/local/lib/python3.12/dist-packages (from datasets>=2.0.0->evaluate) (6.0.3)\n",
            "Requirement already satisfied: aiohttp!=4.0.0a0,!=4.0.0a1 in /usr/local/lib/python3.12/dist-packages (from fsspec[http]>=2021.05.0->evaluate) (3.13.1)\n",
            "Requirement already satisfied: typing-extensions>=3.7.4.3 in /usr/local/lib/python3.12/dist-packages (from huggingface-hub>=0.7.0->evaluate) (4.15.0)\n",
            "Requirement already satisfied: hf-xet<2.0.0,>=1.1.3 in /usr/local/lib/python3.12/dist-packages (from huggingface-hub>=0.7.0->evaluate) (1.1.10)\n",
            "Requirement already satisfied: charset_normalizer<4,>=2 in /usr/local/lib/python3.12/dist-packages (from requests>=2.19.0->evaluate) (3.4.4)\n",
            "Requirement already satisfied: idna<4,>=2.5 in /usr/local/lib/python3.12/dist-packages (from requests>=2.19.0->evaluate) (3.11)\n",
            "Requirement already satisfied: urllib3<3,>=1.21.1 in /usr/local/lib/python3.12/dist-packages (from requests>=2.19.0->evaluate) (2.5.0)\n",
            "Requirement already satisfied: certifi>=2017.4.17 in /usr/local/lib/python3.12/dist-packages (from requests>=2.19.0->evaluate) (2025.10.5)\n",
            "Requirement already satisfied: python-dateutil>=2.8.2 in /usr/local/lib/python3.12/dist-packages (from pandas->evaluate) (2.9.0.post0)\n",
            "Requirement already satisfied: pytz>=2020.1 in /usr/local/lib/python3.12/dist-packages (from pandas->evaluate) (2025.2)\n",
            "Requirement already satisfied: tzdata>=2022.7 in /usr/local/lib/python3.12/dist-packages (from pandas->evaluate) (2025.2)\n",
            "Requirement already satisfied: aiohappyeyeballs>=2.5.0 in /usr/local/lib/python3.12/dist-packages (from aiohttp!=4.0.0a0,!=4.0.0a1->fsspec[http]>=2021.05.0->evaluate) (2.6.1)\n",
            "Requirement already satisfied: aiosignal>=1.4.0 in /usr/local/lib/python3.12/dist-packages (from aiohttp!=4.0.0a0,!=4.0.0a1->fsspec[http]>=2021.05.0->evaluate) (1.4.0)\n",
            "Requirement already satisfied: attrs>=17.3.0 in /usr/local/lib/python3.12/dist-packages (from aiohttp!=4.0.0a0,!=4.0.0a1->fsspec[http]>=2021.05.0->evaluate) (25.4.0)\n",
            "Requirement already satisfied: frozenlist>=1.1.1 in /usr/local/lib/python3.12/dist-packages (from aiohttp!=4.0.0a0,!=4.0.0a1->fsspec[http]>=2021.05.0->evaluate) (1.8.0)\n",
            "Requirement already satisfied: multidict<7.0,>=4.5 in /usr/local/lib/python3.12/dist-packages (from aiohttp!=4.0.0a0,!=4.0.0a1->fsspec[http]>=2021.05.0->evaluate) (6.7.0)\n",
            "Requirement already satisfied: propcache>=0.2.0 in /usr/local/lib/python3.12/dist-packages (from aiohttp!=4.0.0a0,!=4.0.0a1->fsspec[http]>=2021.05.0->evaluate) (0.4.1)\n",
            "Requirement already satisfied: yarl<2.0,>=1.17.0 in /usr/local/lib/python3.12/dist-packages (from aiohttp!=4.0.0a0,!=4.0.0a1->fsspec[http]>=2021.05.0->evaluate) (1.22.0)\n",
            "Requirement already satisfied: six>=1.5 in /usr/local/lib/python3.12/dist-packages (from python-dateutil>=2.8.2->pandas->evaluate) (1.17.0)\n",
            "Requirement already satisfied: SentencePiece in /usr/local/lib/python3.12/dist-packages (0.2.1)\n",
            "Requirement already satisfied: transformers[torch] in /usr/local/lib/python3.12/dist-packages (4.57.1)\n",
            "Requirement already satisfied: filelock in /usr/local/lib/python3.12/dist-packages (from transformers[torch]) (3.20.0)\n",
            "Requirement already satisfied: huggingface-hub<1.0,>=0.34.0 in /usr/local/lib/python3.12/dist-packages (from transformers[torch]) (0.35.3)\n",
            "Requirement already satisfied: numpy>=1.17 in /usr/local/lib/python3.12/dist-packages (from transformers[torch]) (2.0.2)\n",
            "Requirement already satisfied: packaging>=20.0 in /usr/local/lib/python3.12/dist-packages (from transformers[torch]) (25.0)\n",
            "Requirement already satisfied: pyyaml>=5.1 in /usr/local/lib/python3.12/dist-packages (from transformers[torch]) (6.0.3)\n",
            "Requirement already satisfied: regex!=2019.12.17 in /usr/local/lib/python3.12/dist-packages (from transformers[torch]) (2024.11.6)\n",
            "Requirement already satisfied: requests in /usr/local/lib/python3.12/dist-packages (from transformers[torch]) (2.32.4)\n",
            "Requirement already satisfied: tokenizers<=0.23.0,>=0.22.0 in /usr/local/lib/python3.12/dist-packages (from transformers[torch]) (0.22.1)\n",
            "Requirement already satisfied: safetensors>=0.4.3 in /usr/local/lib/python3.12/dist-packages (from transformers[torch]) (0.6.2)\n",
            "Requirement already satisfied: tqdm>=4.27 in /usr/local/lib/python3.12/dist-packages (from transformers[torch]) (4.67.1)\n",
            "Requirement already satisfied: torch>=2.2 in /usr/local/lib/python3.12/dist-packages (from transformers[torch]) (2.8.0+cu126)\n",
            "Requirement already satisfied: accelerate>=0.26.0 in /usr/local/lib/python3.12/dist-packages (from transformers[torch]) (1.11.0)\n",
            "Requirement already satisfied: psutil in /usr/local/lib/python3.12/dist-packages (from accelerate>=0.26.0->transformers[torch]) (5.9.5)\n",
            "Requirement already satisfied: fsspec>=2023.5.0 in /usr/local/lib/python3.12/dist-packages (from huggingface-hub<1.0,>=0.34.0->transformers[torch]) (2025.3.0)\n",
            "Requirement already satisfied: typing-extensions>=3.7.4.3 in /usr/local/lib/python3.12/dist-packages (from huggingface-hub<1.0,>=0.34.0->transformers[torch]) (4.15.0)\n",
            "Requirement already satisfied: hf-xet<2.0.0,>=1.1.3 in /usr/local/lib/python3.12/dist-packages (from huggingface-hub<1.0,>=0.34.0->transformers[torch]) (1.1.10)\n",
            "Requirement already satisfied: setuptools in /usr/local/lib/python3.12/dist-packages (from torch>=2.2->transformers[torch]) (75.2.0)\n",
            "Requirement already satisfied: sympy>=1.13.3 in /usr/local/lib/python3.12/dist-packages (from torch>=2.2->transformers[torch]) (1.13.3)\n",
            "Requirement already satisfied: networkx in /usr/local/lib/python3.12/dist-packages (from torch>=2.2->transformers[torch]) (3.5)\n",
            "Requirement already satisfied: jinja2 in /usr/local/lib/python3.12/dist-packages (from torch>=2.2->transformers[torch]) (3.1.6)\n",
            "Requirement already satisfied: nvidia-cuda-nvrtc-cu12==12.6.77 in /usr/local/lib/python3.12/dist-packages (from torch>=2.2->transformers[torch]) (12.6.77)\n",
            "Requirement already satisfied: nvidia-cuda-runtime-cu12==12.6.77 in /usr/local/lib/python3.12/dist-packages (from torch>=2.2->transformers[torch]) (12.6.77)\n",
            "Requirement already satisfied: nvidia-cuda-cupti-cu12==12.6.80 in /usr/local/lib/python3.12/dist-packages (from torch>=2.2->transformers[torch]) (12.6.80)\n",
            "Requirement already satisfied: nvidia-cudnn-cu12==9.10.2.21 in /usr/local/lib/python3.12/dist-packages (from torch>=2.2->transformers[torch]) (9.10.2.21)\n",
            "Requirement already satisfied: nvidia-cublas-cu12==12.6.4.1 in /usr/local/lib/python3.12/dist-packages (from torch>=2.2->transformers[torch]) (12.6.4.1)\n",
            "Requirement already satisfied: nvidia-cufft-cu12==11.3.0.4 in /usr/local/lib/python3.12/dist-packages (from torch>=2.2->transformers[torch]) (11.3.0.4)\n",
            "Requirement already satisfied: nvidia-curand-cu12==10.3.7.77 in /usr/local/lib/python3.12/dist-packages (from torch>=2.2->transformers[torch]) (10.3.7.77)\n",
            "Requirement already satisfied: nvidia-cusolver-cu12==11.7.1.2 in /usr/local/lib/python3.12/dist-packages (from torch>=2.2->transformers[torch]) (11.7.1.2)\n",
            "Requirement already satisfied: nvidia-cusparse-cu12==12.5.4.2 in /usr/local/lib/python3.12/dist-packages (from torch>=2.2->transformers[torch]) (12.5.4.2)\n",
            "Requirement already satisfied: nvidia-cusparselt-cu12==0.7.1 in /usr/local/lib/python3.12/dist-packages (from torch>=2.2->transformers[torch]) (0.7.1)\n",
            "Requirement already satisfied: nvidia-nccl-cu12==2.27.3 in /usr/local/lib/python3.12/dist-packages (from torch>=2.2->transformers[torch]) (2.27.3)\n",
            "Requirement already satisfied: nvidia-nvtx-cu12==12.6.77 in /usr/local/lib/python3.12/dist-packages (from torch>=2.2->transformers[torch]) (12.6.77)\n",
            "Requirement already satisfied: nvidia-nvjitlink-cu12==12.6.85 in /usr/local/lib/python3.12/dist-packages (from torch>=2.2->transformers[torch]) (12.6.85)\n",
            "Requirement already satisfied: nvidia-cufile-cu12==1.11.1.6 in /usr/local/lib/python3.12/dist-packages (from torch>=2.2->transformers[torch]) (1.11.1.6)\n",
            "Requirement already satisfied: triton==3.4.0 in /usr/local/lib/python3.12/dist-packages (from torch>=2.2->transformers[torch]) (3.4.0)\n",
            "Requirement already satisfied: charset_normalizer<4,>=2 in /usr/local/lib/python3.12/dist-packages (from requests->transformers[torch]) (3.4.4)\n",
            "Requirement already satisfied: idna<4,>=2.5 in /usr/local/lib/python3.12/dist-packages (from requests->transformers[torch]) (3.11)\n",
            "Requirement already satisfied: urllib3<3,>=1.21.1 in /usr/local/lib/python3.12/dist-packages (from requests->transformers[torch]) (2.5.0)\n",
            "Requirement already satisfied: certifi>=2017.4.17 in /usr/local/lib/python3.12/dist-packages (from requests->transformers[torch]) (2025.10.5)\n",
            "Requirement already satisfied: mpmath<1.4,>=1.1.0 in /usr/local/lib/python3.12/dist-packages (from sympy>=1.13.3->torch>=2.2->transformers[torch]) (1.3.0)\n",
            "Requirement already satisfied: MarkupSafe>=2.0 in /usr/local/lib/python3.12/dist-packages (from jinja2->torch>=2.2->transformers[torch]) (3.0.3)\n",
            "Requirement already satisfied: peft in /usr/local/lib/python3.12/dist-packages (0.17.1)\n",
            "Requirement already satisfied: numpy>=1.17 in /usr/local/lib/python3.12/dist-packages (from peft) (2.0.2)\n",
            "Requirement already satisfied: packaging>=20.0 in /usr/local/lib/python3.12/dist-packages (from peft) (25.0)\n",
            "Requirement already satisfied: psutil in /usr/local/lib/python3.12/dist-packages (from peft) (5.9.5)\n",
            "Requirement already satisfied: pyyaml in /usr/local/lib/python3.12/dist-packages (from peft) (6.0.3)\n",
            "Requirement already satisfied: torch>=1.13.0 in /usr/local/lib/python3.12/dist-packages (from peft) (2.8.0+cu126)\n",
            "Requirement already satisfied: transformers in /usr/local/lib/python3.12/dist-packages (from peft) (4.57.1)\n",
            "Requirement already satisfied: tqdm in /usr/local/lib/python3.12/dist-packages (from peft) (4.67.1)\n",
            "Requirement already satisfied: accelerate>=0.21.0 in /usr/local/lib/python3.12/dist-packages (from peft) (1.11.0)\n",
            "Requirement already satisfied: safetensors in /usr/local/lib/python3.12/dist-packages (from peft) (0.6.2)\n",
            "Requirement already satisfied: huggingface_hub>=0.25.0 in /usr/local/lib/python3.12/dist-packages (from peft) (0.35.3)\n",
            "Requirement already satisfied: filelock in /usr/local/lib/python3.12/dist-packages (from huggingface_hub>=0.25.0->peft) (3.20.0)\n",
            "Requirement already satisfied: fsspec>=2023.5.0 in /usr/local/lib/python3.12/dist-packages (from huggingface_hub>=0.25.0->peft) (2025.3.0)\n",
            "Requirement already satisfied: requests in /usr/local/lib/python3.12/dist-packages (from huggingface_hub>=0.25.0->peft) (2.32.4)\n",
            "Requirement already satisfied: typing-extensions>=3.7.4.3 in /usr/local/lib/python3.12/dist-packages (from huggingface_hub>=0.25.0->peft) (4.15.0)\n",
            "Requirement already satisfied: hf-xet<2.0.0,>=1.1.3 in /usr/local/lib/python3.12/dist-packages (from huggingface_hub>=0.25.0->peft) (1.1.10)\n",
            "Requirement already satisfied: setuptools in /usr/local/lib/python3.12/dist-packages (from torch>=1.13.0->peft) (75.2.0)\n",
            "Requirement already satisfied: sympy>=1.13.3 in /usr/local/lib/python3.12/dist-packages (from torch>=1.13.0->peft) (1.13.3)\n",
            "Requirement already satisfied: networkx in /usr/local/lib/python3.12/dist-packages (from torch>=1.13.0->peft) (3.5)\n",
            "Requirement already satisfied: jinja2 in /usr/local/lib/python3.12/dist-packages (from torch>=1.13.0->peft) (3.1.6)\n",
            "Requirement already satisfied: nvidia-cuda-nvrtc-cu12==12.6.77 in /usr/local/lib/python3.12/dist-packages (from torch>=1.13.0->peft) (12.6.77)\n",
            "Requirement already satisfied: nvidia-cuda-runtime-cu12==12.6.77 in /usr/local/lib/python3.12/dist-packages (from torch>=1.13.0->peft) (12.6.77)\n",
            "Requirement already satisfied: nvidia-cuda-cupti-cu12==12.6.80 in /usr/local/lib/python3.12/dist-packages (from torch>=1.13.0->peft) (12.6.80)\n",
            "Requirement already satisfied: nvidia-cudnn-cu12==9.10.2.21 in /usr/local/lib/python3.12/dist-packages (from torch>=1.13.0->peft) (9.10.2.21)\n",
            "Requirement already satisfied: nvidia-cublas-cu12==12.6.4.1 in /usr/local/lib/python3.12/dist-packages (from torch>=1.13.0->peft) (12.6.4.1)\n",
            "Requirement already satisfied: nvidia-cufft-cu12==11.3.0.4 in /usr/local/lib/python3.12/dist-packages (from torch>=1.13.0->peft) (11.3.0.4)\n",
            "Requirement already satisfied: nvidia-curand-cu12==10.3.7.77 in /usr/local/lib/python3.12/dist-packages (from torch>=1.13.0->peft) (10.3.7.77)\n",
            "Requirement already satisfied: nvidia-cusolver-cu12==11.7.1.2 in /usr/local/lib/python3.12/dist-packages (from torch>=1.13.0->peft) (11.7.1.2)\n",
            "Requirement already satisfied: nvidia-cusparse-cu12==12.5.4.2 in /usr/local/lib/python3.12/dist-packages (from torch>=1.13.0->peft) (12.5.4.2)\n",
            "Requirement already satisfied: nvidia-cusparselt-cu12==0.7.1 in /usr/local/lib/python3.12/dist-packages (from torch>=1.13.0->peft) (0.7.1)\n",
            "Requirement already satisfied: nvidia-nccl-cu12==2.27.3 in /usr/local/lib/python3.12/dist-packages (from torch>=1.13.0->peft) (2.27.3)\n",
            "Requirement already satisfied: nvidia-nvtx-cu12==12.6.77 in /usr/local/lib/python3.12/dist-packages (from torch>=1.13.0->peft) (12.6.77)\n",
            "Requirement already satisfied: nvidia-nvjitlink-cu12==12.6.85 in /usr/local/lib/python3.12/dist-packages (from torch>=1.13.0->peft) (12.6.85)\n",
            "Requirement already satisfied: nvidia-cufile-cu12==1.11.1.6 in /usr/local/lib/python3.12/dist-packages (from torch>=1.13.0->peft) (1.11.1.6)\n",
            "Requirement already satisfied: triton==3.4.0 in /usr/local/lib/python3.12/dist-packages (from torch>=1.13.0->peft) (3.4.0)\n",
            "Requirement already satisfied: regex!=2019.12.17 in /usr/local/lib/python3.12/dist-packages (from transformers->peft) (2024.11.6)\n",
            "Requirement already satisfied: tokenizers<=0.23.0,>=0.22.0 in /usr/local/lib/python3.12/dist-packages (from transformers->peft) (0.22.1)\n",
            "Requirement already satisfied: mpmath<1.4,>=1.1.0 in /usr/local/lib/python3.12/dist-packages (from sympy>=1.13.3->torch>=1.13.0->peft) (1.3.0)\n",
            "Requirement already satisfied: MarkupSafe>=2.0 in /usr/local/lib/python3.12/dist-packages (from jinja2->torch>=1.13.0->peft) (3.0.3)\n",
            "Requirement already satisfied: charset_normalizer<4,>=2 in /usr/local/lib/python3.12/dist-packages (from requests->huggingface_hub>=0.25.0->peft) (3.4.4)\n",
            "Requirement already satisfied: idna<4,>=2.5 in /usr/local/lib/python3.12/dist-packages (from requests->huggingface_hub>=0.25.0->peft) (3.11)\n",
            "Requirement already satisfied: urllib3<3,>=1.21.1 in /usr/local/lib/python3.12/dist-packages (from requests->huggingface_hub>=0.25.0->peft) (2.5.0)\n",
            "Requirement already satisfied: certifi>=2017.4.17 in /usr/local/lib/python3.12/dist-packages (from requests->huggingface_hub>=0.25.0->peft) (2025.10.5)\n",
            "Requirement already satisfied: Biopython in /usr/local/lib/python3.12/dist-packages (1.85)\n",
            "Requirement already satisfied: numpy in /usr/local/lib/python3.12/dist-packages (from Biopython) (2.0.2)\n",
            "Requirement already satisfied: mpi4py in /usr/local/lib/python3.12/dist-packages (4.1.1)\n"
          ]
        }
      ],
      "id": "KveEQppzyVkn"
    },
    {
      "cell_type": "code",
      "source": [
        "import torch\n",
        "import numpy as np\n",
        "import pandas as pd\n",
        "import transformers\n",
        "import datasets as datasets\n",
        "\n",
        "print(\"Torch version: \",torch.__version__)\n",
        "print(\"Cuda version: \",torch.version.cuda)\n",
        "print(\"Numpy version: \",np.__version__)\n",
        "print(\"Pandas version: \",pd.__version__)\n",
        "print(\"Transformers version: \",transformers.__version__)\n",
        "print(\"Datasets version: \",datasets.__version__)"
      ],
      "metadata": {
        "colab": {
          "base_uri": "https://localhost:8080/"
        },
        "id": "Etdz3kiJxhSO",
        "outputId": "62dccc5f-72b0-4a06-fac2-33b1531af27d"
      },
      "id": "Etdz3kiJxhSO",
      "execution_count": 2,
      "outputs": [
        {
          "output_type": "stream",
          "name": "stdout",
          "text": [
            "Torch version:  2.8.0+cu126\n",
            "Cuda version:  12.6\n",
            "Numpy version:  2.0.2\n",
            "Pandas version:  2.2.2\n",
            "Transformers version:  4.57.1\n",
            "Datasets version:  4.0.0\n"
          ]
        }
      ]
    },
    {
      "cell_type": "markdown",
      "source": [
        "# Load the training data"
      ],
      "metadata": {
        "id": "dIOyqIdlx91v"
      },
      "id": "dIOyqIdlx91v"
    },
    {
      "cell_type": "code",
      "execution_count": 3,
      "id": "2c04b7f9-64ad-4cdb-bac8-1f27d9657b97",
      "metadata": {
        "colab": {
          "base_uri": "https://localhost:8080/"
        },
        "id": "2c04b7f9-64ad-4cdb-bac8-1f27d9657b97",
        "outputId": "f79ed7e9-4481-4942-f430-88f5ecfb69a5"
      },
      "outputs": [
        {
          "output_type": "stream",
          "name": "stdout",
          "text": [
            "     name                                           sequence  label\n",
            "0  Q9H161  MNAETCVSYCESPAAAMDAYYSPVSQSREGSSPFRAFPGGDKFGTT...      1\n",
            "1  Q9HBZ2  MATPAAVNPPEMASDIPGSVTLPVAPMAATGQVRMAGAMPARGGKR...      1\n",
            "2  E9PKN1  MADQRMDISSTISDFMSPGPTDLLSSSLGTSGVDCNRKRKGSSTDY...      1\n",
            "3  P50553  MESSAKMESGGAGQQPQPQPQQPFLPPAACFFATAAAAAAAAAAAA...      1\n",
            "4  P15336  MKFKLHVNSARQYKDLWNMSDDKPFLCTAPGCGQRFTNEDHLAVHK...      1\n",
            "\n",
            "Total sequences: 832\n"
          ]
        }
      ],
      "source": [
        "import pandas as pd\n",
        "from Bio import SeqIO\n",
        "import requests\n",
        "from io import StringIO\n",
        "\n",
        "# GitHub raw link\n",
        "url = 'https://raw.githubusercontent.com/MirTanveer/Fine-Tune-TF/main/Data/First_layer_training.txt'\n",
        "\n",
        "# Fetch the data from GitHub\n",
        "response = requests.get(url)\n",
        "response.raise_for_status()  # ensure the download worked\n",
        "\n",
        "# Parse the FASTA data from the text\n",
        "sequences = []\n",
        "for record in SeqIO.parse(StringIO(response.text), \"fasta\"):\n",
        "    # Example header format: >seq1%someinfo%LABEL=1\n",
        "    description_parts = record.description.split(\"%\")\n",
        "    label = int(description_parts[-1].split(\"LABEL=\")[1])  # Extract numeric label\n",
        "    sequences.append([record.name, str(record.seq), label])\n",
        "\n",
        "# Create a DataFrame\n",
        "df = pd.DataFrame(sequences, columns=[\"name\", \"sequence\", \"label\"])\n",
        "\n",
        "# Display\n",
        "print(df.head())\n",
        "print(\"\\nTotal sequences:\", len(df))\n",
        "\n",
        "\n",
        "from datasets import Dataset\n",
        "# Convert label column to int (already done)\n",
        "df['label'] = df['label'].astype(int)\n",
        "\n",
        "# Optional: Map label to class names if needed\n",
        "label2id = {label: i for i, label in enumerate(sorted(df['label'].unique()))}\n",
        "id2label = {i: label for label, i in label2id.items()}\n",
        "\n",
        "# Convert dataframe to HuggingFace dataset\n",
        "dataset = Dataset.from_pandas(df)"
      ]
    },
    {
      "cell_type": "code",
      "execution_count": 4,
      "id": "683e17d5-15cc-4566-864b-fffa2c523f43",
      "metadata": {
        "colab": {
          "base_uri": "https://localhost:8080/"
        },
        "id": "683e17d5-15cc-4566-864b-fffa2c523f43",
        "outputId": "6c7dcc9d-1433-4baa-c4b0-ebd5911aef3d"
      },
      "outputs": [
        {
          "output_type": "execute_result",
          "data": {
            "text/plain": [
              "(832, 3)"
            ]
          },
          "metadata": {},
          "execution_count": 4
        }
      ],
      "source": [
        "dataset.shape"
      ]
    },
    {
      "cell_type": "markdown",
      "source": [
        "# Define the custom head"
      ],
      "metadata": {
        "id": "4HBunBVkyD9Y"
      },
      "id": "4HBunBVkyD9Y"
    },
    {
      "cell_type": "code",
      "execution_count": 5,
      "id": "813e2a4c-e8be-493f-bfd8-7d80d95ffffc",
      "metadata": {
        "id": "813e2a4c-e8be-493f-bfd8-7d80d95ffffc"
      },
      "outputs": [],
      "source": [
        "import torch.nn as nn\n",
        "import torch.nn.functional as F\n",
        "\n",
        "\n",
        "class CustomHeadClassifier(nn.Module):\n",
        "    def __init__(self, embedding_size, hidden_size, dropout, num_classes):\n",
        "        super(CustomHeadClassifier, self).__init__()\n",
        "        self.fc1 = nn.Linear(embedding_size, hidden_size)\n",
        "        self.dropout = nn.Dropout(dropout)\n",
        "        self.fc2 = nn.Linear(hidden_size, num_classes)\n",
        "\n",
        "    def forward(self, x, attention_mask=None):\n",
        "        # x shape: (batch_size, seq_len, embedding_size)\n",
        "        if attention_mask is not None:\n",
        "            # masked mean pooling\n",
        "            mask = attention_mask.unsqueeze(-1)  # (batch_size, seq_len, 1)\n",
        "            x = (x * mask).sum(1) / mask.sum(1)\n",
        "        else:\n",
        "            x = x.mean(dim=1)  # mean pooling over sequence\n",
        "        x = F.relu(self.fc1(x))\n",
        "        x = self.dropout(x)\n",
        "        x = self.fc2(x)\n",
        "        return x"
      ]
    },
    {
      "cell_type": "markdown",
      "source": [
        "# Define LoRA config"
      ],
      "metadata": {
        "id": "jiU_vmCVytJC"
      },
      "id": "jiU_vmCVytJC"
    },
    {
      "cell_type": "code",
      "execution_count": 6,
      "id": "e00d69ef-acec-4220-9d1d-589323b62c9c",
      "metadata": {
        "scrolled": true,
        "colab": {
          "base_uri": "https://localhost:8080/"
        },
        "id": "e00d69ef-acec-4220-9d1d-589323b62c9c",
        "outputId": "3923768d-b657-45ef-e950-6b0697ee3f82"
      },
      "outputs": [
        {
          "output_type": "stream",
          "name": "stderr",
          "text": [
            "/usr/local/lib/python3.12/dist-packages/huggingface_hub/utils/_auth.py:94: UserWarning: \n",
            "The secret `HF_TOKEN` does not exist in your Colab secrets.\n",
            "To authenticate with the Hugging Face Hub, create a token in your settings tab (https://huggingface.co/settings/tokens), set it as secret in your Google Colab and restart your session.\n",
            "You will be able to reuse this secret in all of your notebooks.\n",
            "Please note that authentication is recommended but still optional to access public models or datasets.\n",
            "  warnings.warn(\n",
            "Some weights of EsmForSequenceClassification were not initialized from the model checkpoint at facebook/esm2_t6_8M_UR50D and are newly initialized: ['classifier.dense.bias', 'classifier.dense.weight', 'classifier.out_proj.bias', 'classifier.out_proj.weight']\n",
            "You should probably TRAIN this model on a down-stream task to be able to use it for predictions and inference.\n"
          ]
        }
      ],
      "source": [
        "from peft import LoraConfig, get_peft_model, TaskType\n",
        "from transformers import AutoModelForSequenceClassification\n",
        "\n",
        "# Load base model (e.g., ESM-2 or ProtBERT etc.)\n",
        "base_model = AutoModelForSequenceClassification.from_pretrained(\"facebook/esm2_t6_8M_UR50D\", num_labels=2)\n",
        "\n",
        "embedding_size = base_model.config.hidden_size\n",
        "base_model.classifier = CustomHeadClassifier(embedding_size, hidden_size=128, dropout=0.3, num_classes=2)\n",
        "\n",
        "#Freeze base model\n",
        "for param in base_model.parameters():\n",
        "    param.requires_grad = False\n",
        "\n",
        "\n",
        "# Define LoRA config\n",
        "lora_config = LoraConfig(\n",
        "    r=32,\n",
        "    lora_alpha=16,\n",
        "    lora_dropout=0.1,\n",
        "    target_modules=[\"query\", \"value\", \"key\", \"dense\"],\n",
        "    bias=\"all\",\n",
        "    task_type=TaskType.SEQ_CLS)\n",
        "\n",
        "# Apply LoRA\n",
        "model = get_peft_model(base_model, lora_config)"
      ]
    },
    {
      "cell_type": "code",
      "execution_count": 7,
      "id": "0526e0c4-1dbd-4965-9683-267bcd82981e",
      "metadata": {
        "colab": {
          "base_uri": "https://localhost:8080/"
        },
        "id": "0526e0c4-1dbd-4965-9683-267bcd82981e",
        "outputId": "83e90461-409f-4066-d299-416c5b2600e5"
      },
      "outputs": [
        {
          "output_type": "execute_result",
          "data": {
            "text/plain": [
              "PeftModelForSequenceClassification(\n",
              "  (base_model): LoraModel(\n",
              "    (model): EsmForSequenceClassification(\n",
              "      (esm): EsmModel(\n",
              "        (embeddings): EsmEmbeddings(\n",
              "          (word_embeddings): Embedding(33, 320, padding_idx=1)\n",
              "          (dropout): Dropout(p=0.0, inplace=False)\n",
              "        )\n",
              "        (encoder): EsmEncoder(\n",
              "          (layer): ModuleList(\n",
              "            (0-5): 6 x EsmLayer(\n",
              "              (attention): EsmAttention(\n",
              "                (self): EsmSelfAttention(\n",
              "                  (query): lora.Linear(\n",
              "                    (base_layer): Linear(in_features=320, out_features=320, bias=True)\n",
              "                    (lora_dropout): ModuleDict(\n",
              "                      (default): Dropout(p=0.1, inplace=False)\n",
              "                    )\n",
              "                    (lora_A): ModuleDict(\n",
              "                      (default): Linear(in_features=320, out_features=32, bias=False)\n",
              "                    )\n",
              "                    (lora_B): ModuleDict(\n",
              "                      (default): Linear(in_features=32, out_features=320, bias=False)\n",
              "                    )\n",
              "                    (lora_embedding_A): ParameterDict()\n",
              "                    (lora_embedding_B): ParameterDict()\n",
              "                    (lora_magnitude_vector): ModuleDict()\n",
              "                  )\n",
              "                  (key): lora.Linear(\n",
              "                    (base_layer): Linear(in_features=320, out_features=320, bias=True)\n",
              "                    (lora_dropout): ModuleDict(\n",
              "                      (default): Dropout(p=0.1, inplace=False)\n",
              "                    )\n",
              "                    (lora_A): ModuleDict(\n",
              "                      (default): Linear(in_features=320, out_features=32, bias=False)\n",
              "                    )\n",
              "                    (lora_B): ModuleDict(\n",
              "                      (default): Linear(in_features=32, out_features=320, bias=False)\n",
              "                    )\n",
              "                    (lora_embedding_A): ParameterDict()\n",
              "                    (lora_embedding_B): ParameterDict()\n",
              "                    (lora_magnitude_vector): ModuleDict()\n",
              "                  )\n",
              "                  (value): lora.Linear(\n",
              "                    (base_layer): Linear(in_features=320, out_features=320, bias=True)\n",
              "                    (lora_dropout): ModuleDict(\n",
              "                      (default): Dropout(p=0.1, inplace=False)\n",
              "                    )\n",
              "                    (lora_A): ModuleDict(\n",
              "                      (default): Linear(in_features=320, out_features=32, bias=False)\n",
              "                    )\n",
              "                    (lora_B): ModuleDict(\n",
              "                      (default): Linear(in_features=32, out_features=320, bias=False)\n",
              "                    )\n",
              "                    (lora_embedding_A): ParameterDict()\n",
              "                    (lora_embedding_B): ParameterDict()\n",
              "                    (lora_magnitude_vector): ModuleDict()\n",
              "                  )\n",
              "                  (rotary_embeddings): RotaryEmbedding()\n",
              "                )\n",
              "                (output): EsmSelfOutput(\n",
              "                  (dense): lora.Linear(\n",
              "                    (base_layer): Linear(in_features=320, out_features=320, bias=True)\n",
              "                    (lora_dropout): ModuleDict(\n",
              "                      (default): Dropout(p=0.1, inplace=False)\n",
              "                    )\n",
              "                    (lora_A): ModuleDict(\n",
              "                      (default): Linear(in_features=320, out_features=32, bias=False)\n",
              "                    )\n",
              "                    (lora_B): ModuleDict(\n",
              "                      (default): Linear(in_features=32, out_features=320, bias=False)\n",
              "                    )\n",
              "                    (lora_embedding_A): ParameterDict()\n",
              "                    (lora_embedding_B): ParameterDict()\n",
              "                    (lora_magnitude_vector): ModuleDict()\n",
              "                  )\n",
              "                  (dropout): Dropout(p=0.0, inplace=False)\n",
              "                )\n",
              "                (LayerNorm): LayerNorm((320,), eps=1e-05, elementwise_affine=True)\n",
              "              )\n",
              "              (intermediate): EsmIntermediate(\n",
              "                (dense): lora.Linear(\n",
              "                  (base_layer): Linear(in_features=320, out_features=1280, bias=True)\n",
              "                  (lora_dropout): ModuleDict(\n",
              "                    (default): Dropout(p=0.1, inplace=False)\n",
              "                  )\n",
              "                  (lora_A): ModuleDict(\n",
              "                    (default): Linear(in_features=320, out_features=32, bias=False)\n",
              "                  )\n",
              "                  (lora_B): ModuleDict(\n",
              "                    (default): Linear(in_features=32, out_features=1280, bias=False)\n",
              "                  )\n",
              "                  (lora_embedding_A): ParameterDict()\n",
              "                  (lora_embedding_B): ParameterDict()\n",
              "                  (lora_magnitude_vector): ModuleDict()\n",
              "                )\n",
              "              )\n",
              "              (output): EsmOutput(\n",
              "                (dense): lora.Linear(\n",
              "                  (base_layer): Linear(in_features=1280, out_features=320, bias=True)\n",
              "                  (lora_dropout): ModuleDict(\n",
              "                    (default): Dropout(p=0.1, inplace=False)\n",
              "                  )\n",
              "                  (lora_A): ModuleDict(\n",
              "                    (default): Linear(in_features=1280, out_features=32, bias=False)\n",
              "                  )\n",
              "                  (lora_B): ModuleDict(\n",
              "                    (default): Linear(in_features=32, out_features=320, bias=False)\n",
              "                  )\n",
              "                  (lora_embedding_A): ParameterDict()\n",
              "                  (lora_embedding_B): ParameterDict()\n",
              "                  (lora_magnitude_vector): ModuleDict()\n",
              "                )\n",
              "                (dropout): Dropout(p=0.0, inplace=False)\n",
              "              )\n",
              "              (LayerNorm): LayerNorm((320,), eps=1e-05, elementwise_affine=True)\n",
              "            )\n",
              "          )\n",
              "          (emb_layer_norm_after): LayerNorm((320,), eps=1e-05, elementwise_affine=True)\n",
              "        )\n",
              "        (contact_head): EsmContactPredictionHead(\n",
              "          (regression): Linear(in_features=120, out_features=1, bias=True)\n",
              "          (activation): Sigmoid()\n",
              "        )\n",
              "      )\n",
              "      (classifier): ModulesToSaveWrapper(\n",
              "        (original_module): CustomHeadClassifier(\n",
              "          (fc1): Linear(in_features=320, out_features=128, bias=True)\n",
              "          (dropout): Dropout(p=0.3, inplace=False)\n",
              "          (fc2): Linear(in_features=128, out_features=2, bias=True)\n",
              "        )\n",
              "        (modules_to_save): ModuleDict(\n",
              "          (default): CustomHeadClassifier(\n",
              "            (fc1): Linear(in_features=320, out_features=128, bias=True)\n",
              "            (dropout): Dropout(p=0.3, inplace=False)\n",
              "            (fc2): Linear(in_features=128, out_features=2, bias=True)\n",
              "          )\n",
              "        )\n",
              "      )\n",
              "    )\n",
              "  )\n",
              ")"
            ]
          },
          "metadata": {},
          "execution_count": 7
        }
      ],
      "source": [
        "model"
      ]
    },
    {
      "cell_type": "code",
      "execution_count": 8,
      "id": "44c55eba-5c81-4dcf-b7b4-3c6d7ca7fad9",
      "metadata": {
        "id": "44c55eba-5c81-4dcf-b7b4-3c6d7ca7fad9"
      },
      "outputs": [],
      "source": [
        "# for name, param in model.named_parameters():\n",
        "#     param.requires_grad = is_target_block(name)\n",
        "\n",
        "# model.print_trainable_parameters()"
      ]
    },
    {
      "cell_type": "code",
      "execution_count": 9,
      "id": "f86482be-1a05-485d-aefb-3fef1dab7ec6",
      "metadata": {
        "colab": {
          "base_uri": "https://localhost:8080/"
        },
        "id": "f86482be-1a05-485d-aefb-3fef1dab7ec6",
        "outputId": "2495149c-cb6a-4531-9bf1-2433cab0cd59"
      },
      "outputs": [
        {
          "output_type": "stream",
          "name": "stdout",
          "text": [
            "trainable params: 1,168,707 || all params: 8,597,693 || trainable%: 13.5933\n"
          ]
        }
      ],
      "source": [
        "model.print_trainable_parameters()"
      ]
    },
    {
      "cell_type": "code",
      "execution_count": 10,
      "id": "5db24783-d15e-429b-adc6-8435bb7019b5",
      "metadata": {
        "colab": {
          "base_uri": "https://localhost:8080/"
        },
        "id": "5db24783-d15e-429b-adc6-8435bb7019b5",
        "outputId": "0638c0d2-cf44-49fe-b990-017ae581b228"
      },
      "outputs": [
        {
          "output_type": "stream",
          "name": "stdout",
          "text": [
            "base_model.model.esm.encoder.layer.0.attention.self.query.base_layer.bias\n",
            "base_model.model.esm.encoder.layer.0.attention.self.query.lora_A.default.weight\n",
            "base_model.model.esm.encoder.layer.0.attention.self.query.lora_B.default.weight\n",
            "base_model.model.esm.encoder.layer.0.attention.self.key.base_layer.bias\n",
            "base_model.model.esm.encoder.layer.0.attention.self.key.lora_A.default.weight\n",
            "base_model.model.esm.encoder.layer.0.attention.self.key.lora_B.default.weight\n",
            "base_model.model.esm.encoder.layer.0.attention.self.value.base_layer.bias\n",
            "base_model.model.esm.encoder.layer.0.attention.self.value.lora_A.default.weight\n",
            "base_model.model.esm.encoder.layer.0.attention.self.value.lora_B.default.weight\n",
            "base_model.model.esm.encoder.layer.0.attention.output.dense.base_layer.bias\n",
            "base_model.model.esm.encoder.layer.0.attention.output.dense.lora_A.default.weight\n",
            "base_model.model.esm.encoder.layer.0.attention.output.dense.lora_B.default.weight\n",
            "base_model.model.esm.encoder.layer.0.attention.LayerNorm.bias\n",
            "base_model.model.esm.encoder.layer.0.intermediate.dense.base_layer.bias\n",
            "base_model.model.esm.encoder.layer.0.intermediate.dense.lora_A.default.weight\n",
            "base_model.model.esm.encoder.layer.0.intermediate.dense.lora_B.default.weight\n",
            "base_model.model.esm.encoder.layer.0.output.dense.base_layer.bias\n",
            "base_model.model.esm.encoder.layer.0.output.dense.lora_A.default.weight\n",
            "base_model.model.esm.encoder.layer.0.output.dense.lora_B.default.weight\n",
            "base_model.model.esm.encoder.layer.0.LayerNorm.bias\n",
            "base_model.model.esm.encoder.layer.1.attention.self.query.base_layer.bias\n",
            "base_model.model.esm.encoder.layer.1.attention.self.query.lora_A.default.weight\n",
            "base_model.model.esm.encoder.layer.1.attention.self.query.lora_B.default.weight\n",
            "base_model.model.esm.encoder.layer.1.attention.self.key.base_layer.bias\n",
            "base_model.model.esm.encoder.layer.1.attention.self.key.lora_A.default.weight\n",
            "base_model.model.esm.encoder.layer.1.attention.self.key.lora_B.default.weight\n",
            "base_model.model.esm.encoder.layer.1.attention.self.value.base_layer.bias\n",
            "base_model.model.esm.encoder.layer.1.attention.self.value.lora_A.default.weight\n",
            "base_model.model.esm.encoder.layer.1.attention.self.value.lora_B.default.weight\n",
            "base_model.model.esm.encoder.layer.1.attention.output.dense.base_layer.bias\n",
            "base_model.model.esm.encoder.layer.1.attention.output.dense.lora_A.default.weight\n",
            "base_model.model.esm.encoder.layer.1.attention.output.dense.lora_B.default.weight\n",
            "base_model.model.esm.encoder.layer.1.attention.LayerNorm.bias\n",
            "base_model.model.esm.encoder.layer.1.intermediate.dense.base_layer.bias\n",
            "base_model.model.esm.encoder.layer.1.intermediate.dense.lora_A.default.weight\n",
            "base_model.model.esm.encoder.layer.1.intermediate.dense.lora_B.default.weight\n",
            "base_model.model.esm.encoder.layer.1.output.dense.base_layer.bias\n",
            "base_model.model.esm.encoder.layer.1.output.dense.lora_A.default.weight\n",
            "base_model.model.esm.encoder.layer.1.output.dense.lora_B.default.weight\n",
            "base_model.model.esm.encoder.layer.1.LayerNorm.bias\n",
            "base_model.model.esm.encoder.layer.2.attention.self.query.base_layer.bias\n",
            "base_model.model.esm.encoder.layer.2.attention.self.query.lora_A.default.weight\n",
            "base_model.model.esm.encoder.layer.2.attention.self.query.lora_B.default.weight\n",
            "base_model.model.esm.encoder.layer.2.attention.self.key.base_layer.bias\n",
            "base_model.model.esm.encoder.layer.2.attention.self.key.lora_A.default.weight\n",
            "base_model.model.esm.encoder.layer.2.attention.self.key.lora_B.default.weight\n",
            "base_model.model.esm.encoder.layer.2.attention.self.value.base_layer.bias\n",
            "base_model.model.esm.encoder.layer.2.attention.self.value.lora_A.default.weight\n",
            "base_model.model.esm.encoder.layer.2.attention.self.value.lora_B.default.weight\n",
            "base_model.model.esm.encoder.layer.2.attention.output.dense.base_layer.bias\n",
            "base_model.model.esm.encoder.layer.2.attention.output.dense.lora_A.default.weight\n",
            "base_model.model.esm.encoder.layer.2.attention.output.dense.lora_B.default.weight\n",
            "base_model.model.esm.encoder.layer.2.attention.LayerNorm.bias\n",
            "base_model.model.esm.encoder.layer.2.intermediate.dense.base_layer.bias\n",
            "base_model.model.esm.encoder.layer.2.intermediate.dense.lora_A.default.weight\n",
            "base_model.model.esm.encoder.layer.2.intermediate.dense.lora_B.default.weight\n",
            "base_model.model.esm.encoder.layer.2.output.dense.base_layer.bias\n",
            "base_model.model.esm.encoder.layer.2.output.dense.lora_A.default.weight\n",
            "base_model.model.esm.encoder.layer.2.output.dense.lora_B.default.weight\n",
            "base_model.model.esm.encoder.layer.2.LayerNorm.bias\n",
            "base_model.model.esm.encoder.layer.3.attention.self.query.base_layer.bias\n",
            "base_model.model.esm.encoder.layer.3.attention.self.query.lora_A.default.weight\n",
            "base_model.model.esm.encoder.layer.3.attention.self.query.lora_B.default.weight\n",
            "base_model.model.esm.encoder.layer.3.attention.self.key.base_layer.bias\n",
            "base_model.model.esm.encoder.layer.3.attention.self.key.lora_A.default.weight\n",
            "base_model.model.esm.encoder.layer.3.attention.self.key.lora_B.default.weight\n",
            "base_model.model.esm.encoder.layer.3.attention.self.value.base_layer.bias\n",
            "base_model.model.esm.encoder.layer.3.attention.self.value.lora_A.default.weight\n",
            "base_model.model.esm.encoder.layer.3.attention.self.value.lora_B.default.weight\n",
            "base_model.model.esm.encoder.layer.3.attention.output.dense.base_layer.bias\n",
            "base_model.model.esm.encoder.layer.3.attention.output.dense.lora_A.default.weight\n",
            "base_model.model.esm.encoder.layer.3.attention.output.dense.lora_B.default.weight\n",
            "base_model.model.esm.encoder.layer.3.attention.LayerNorm.bias\n",
            "base_model.model.esm.encoder.layer.3.intermediate.dense.base_layer.bias\n",
            "base_model.model.esm.encoder.layer.3.intermediate.dense.lora_A.default.weight\n",
            "base_model.model.esm.encoder.layer.3.intermediate.dense.lora_B.default.weight\n",
            "base_model.model.esm.encoder.layer.3.output.dense.base_layer.bias\n",
            "base_model.model.esm.encoder.layer.3.output.dense.lora_A.default.weight\n",
            "base_model.model.esm.encoder.layer.3.output.dense.lora_B.default.weight\n",
            "base_model.model.esm.encoder.layer.3.LayerNorm.bias\n",
            "base_model.model.esm.encoder.layer.4.attention.self.query.base_layer.bias\n",
            "base_model.model.esm.encoder.layer.4.attention.self.query.lora_A.default.weight\n",
            "base_model.model.esm.encoder.layer.4.attention.self.query.lora_B.default.weight\n",
            "base_model.model.esm.encoder.layer.4.attention.self.key.base_layer.bias\n",
            "base_model.model.esm.encoder.layer.4.attention.self.key.lora_A.default.weight\n",
            "base_model.model.esm.encoder.layer.4.attention.self.key.lora_B.default.weight\n",
            "base_model.model.esm.encoder.layer.4.attention.self.value.base_layer.bias\n",
            "base_model.model.esm.encoder.layer.4.attention.self.value.lora_A.default.weight\n",
            "base_model.model.esm.encoder.layer.4.attention.self.value.lora_B.default.weight\n",
            "base_model.model.esm.encoder.layer.4.attention.output.dense.base_layer.bias\n",
            "base_model.model.esm.encoder.layer.4.attention.output.dense.lora_A.default.weight\n",
            "base_model.model.esm.encoder.layer.4.attention.output.dense.lora_B.default.weight\n",
            "base_model.model.esm.encoder.layer.4.attention.LayerNorm.bias\n",
            "base_model.model.esm.encoder.layer.4.intermediate.dense.base_layer.bias\n",
            "base_model.model.esm.encoder.layer.4.intermediate.dense.lora_A.default.weight\n",
            "base_model.model.esm.encoder.layer.4.intermediate.dense.lora_B.default.weight\n",
            "base_model.model.esm.encoder.layer.4.output.dense.base_layer.bias\n",
            "base_model.model.esm.encoder.layer.4.output.dense.lora_A.default.weight\n",
            "base_model.model.esm.encoder.layer.4.output.dense.lora_B.default.weight\n",
            "base_model.model.esm.encoder.layer.4.LayerNorm.bias\n",
            "base_model.model.esm.encoder.layer.5.attention.self.query.base_layer.bias\n",
            "base_model.model.esm.encoder.layer.5.attention.self.query.lora_A.default.weight\n",
            "base_model.model.esm.encoder.layer.5.attention.self.query.lora_B.default.weight\n",
            "base_model.model.esm.encoder.layer.5.attention.self.key.base_layer.bias\n",
            "base_model.model.esm.encoder.layer.5.attention.self.key.lora_A.default.weight\n",
            "base_model.model.esm.encoder.layer.5.attention.self.key.lora_B.default.weight\n",
            "base_model.model.esm.encoder.layer.5.attention.self.value.base_layer.bias\n",
            "base_model.model.esm.encoder.layer.5.attention.self.value.lora_A.default.weight\n",
            "base_model.model.esm.encoder.layer.5.attention.self.value.lora_B.default.weight\n",
            "base_model.model.esm.encoder.layer.5.attention.output.dense.base_layer.bias\n",
            "base_model.model.esm.encoder.layer.5.attention.output.dense.lora_A.default.weight\n",
            "base_model.model.esm.encoder.layer.5.attention.output.dense.lora_B.default.weight\n",
            "base_model.model.esm.encoder.layer.5.attention.LayerNorm.bias\n",
            "base_model.model.esm.encoder.layer.5.intermediate.dense.base_layer.bias\n",
            "base_model.model.esm.encoder.layer.5.intermediate.dense.lora_A.default.weight\n",
            "base_model.model.esm.encoder.layer.5.intermediate.dense.lora_B.default.weight\n",
            "base_model.model.esm.encoder.layer.5.output.dense.base_layer.bias\n",
            "base_model.model.esm.encoder.layer.5.output.dense.lora_A.default.weight\n",
            "base_model.model.esm.encoder.layer.5.output.dense.lora_B.default.weight\n",
            "base_model.model.esm.encoder.layer.5.LayerNorm.bias\n",
            "base_model.model.esm.encoder.emb_layer_norm_after.bias\n",
            "base_model.model.esm.contact_head.regression.bias\n",
            "base_model.model.classifier.modules_to_save.default.fc1.weight\n",
            "base_model.model.classifier.modules_to_save.default.fc1.bias\n",
            "base_model.model.classifier.modules_to_save.default.fc2.weight\n",
            "base_model.model.classifier.modules_to_save.default.fc2.bias\n"
          ]
        }
      ],
      "source": [
        "for name, param in model.named_parameters():\n",
        "    if param.requires_grad:\n",
        "        print(name)"
      ]
    },
    {
      "cell_type": "code",
      "execution_count": 11,
      "id": "e5ab421e-9420-42e6-9baf-f7f0074e5879",
      "metadata": {
        "id": "e5ab421e-9420-42e6-9baf-f7f0074e5879"
      },
      "outputs": [],
      "source": [
        "# target_modules = [\n",
        "#     \"transformer.encoder.block.19.layer.0.SelfAttention.q\",\n",
        "#     \"transformer.encoder.block.19.layer.0.SelfAttention.v\",\n",
        "#     \"transformer.encoder.block.20.layer.0.SelfAttention.q\",\n",
        "#     \"transformer.encoder.block.20.layer.0.SelfAttention.v\",\n",
        "#     \"transformer.encoder.block.21.layer.0.SelfAttention.q\",\n",
        "#     \"transformer.encoder.block.21.layer.0.SelfAttention.v\",\n",
        "#     \"transformer.encoder.block.22.layer.0.SelfAttention.q\",\n",
        "#     \"transformer.encoder.block.22.layer.0.SelfAttention.v\",\n",
        "#     \"transformer.encoder.block.23.layer.0.SelfAttention.q\",\n",
        "#     \"transformer.encoder.block.23.layer.0.SelfAttention.v\"\n",
        "# ]\n",
        "\n",
        "# lora_config = LoraConfig(\n",
        "#     task_type=TaskType.SEQ_CLS,\n",
        "#     r=4,\n",
        "#     lora_alpha=16,\n",
        "#     lora_dropout=0.1,\n",
        "#     target_modules=target_modules  # << This is key!\n",
        "# )\n",
        "\n",
        "# model = get_peft_model(base_model, lora_config)\n",
        "\n",
        "# # Optional: confirm\n",
        "# model.print_trainable_parameters()"
      ]
    },
    {
      "cell_type": "code",
      "execution_count": 12,
      "id": "dbe68f61-a727-43b0-8c79-83a475b0e118",
      "metadata": {
        "id": "dbe68f61-a727-43b0-8c79-83a475b0e118"
      },
      "outputs": [],
      "source": [
        "# for name, module in base_model.named_modules():\n",
        "#     print(name)"
      ]
    },
    {
      "cell_type": "code",
      "execution_count": 13,
      "id": "8d28d316-70c5-4161-8878-d951cb148cb4",
      "metadata": {
        "colab": {
          "base_uri": "https://localhost:8080/"
        },
        "id": "8d28d316-70c5-4161-8878-d951cb148cb4",
        "outputId": "3531a769-a355-48fc-9156-60014f1efbcc"
      },
      "outputs": [
        {
          "output_type": "stream",
          "name": "stdout",
          "text": [
            "Trainable layers: 126\n",
            "['base_model.model.esm.encoder.layer.0.attention.self.query.base_layer.bias', 'base_model.model.esm.encoder.layer.0.attention.self.query.lora_A.default.weight', 'base_model.model.esm.encoder.layer.0.attention.self.query.lora_B.default.weight', 'base_model.model.esm.encoder.layer.0.attention.self.key.base_layer.bias', 'base_model.model.esm.encoder.layer.0.attention.self.key.lora_A.default.weight']\n",
            "\n",
            "\n",
            "Frozen layers: 55\n",
            "['base_model.model.esm.embeddings.word_embeddings.weight', 'base_model.model.esm.encoder.layer.0.attention.self.query.base_layer.weight', 'base_model.model.esm.encoder.layer.0.attention.self.key.base_layer.weight', 'base_model.model.esm.encoder.layer.0.attention.self.value.base_layer.weight', 'base_model.model.esm.encoder.layer.0.attention.output.dense.base_layer.weight']\n"
          ]
        }
      ],
      "source": [
        "trainable = [name for name, param in model.named_parameters() if param.requires_grad]\n",
        "frozen = [name for name, param in model.named_parameters() if not param.requires_grad]\n",
        "\n",
        "print(f\"Trainable layers: {len(trainable)}\")\n",
        "print(trainable[:5])  # print a few\n",
        "\n",
        "print(\"\\n\")\n",
        "\n",
        "print(f\"Frozen layers: {len(frozen)}\")\n",
        "print(frozen[:5])  # print a few\n",
        "\n",
        "\n",
        "\n",
        "from transformers import TrainingArguments\n",
        "\n",
        "training_args = TrainingArguments(\n",
        "    output_dir=\"./esm2_t6_8M_lora\",\n",
        "    logging_dir=\"./logs\",\n",
        "    logging_strategy=\"epoch\",\n",
        "    eval_strategy=\"epoch\",\n",
        "    save_strategy=\"epoch\",\n",
        "    num_train_epochs=10,\n",
        "    per_device_train_batch_size=4,\n",
        "    per_device_eval_batch_size=4,\n",
        "    gradient_accumulation_steps=2,\n",
        "    learning_rate=3e-5,\n",
        "    weight_decay=0.01,\n",
        "    fp16=True,\n",
        "    report_to=\"none\"\n",
        ")"
      ]
    },
    {
      "cell_type": "code",
      "execution_count": 14,
      "id": "a0339637-6c06-42c8-afda-ad1499295e10",
      "metadata": {
        "colab": {
          "base_uri": "https://localhost:8080/",
          "height": 49,
          "referenced_widgets": [
            "37f6cbafc7b048ce80c9ef4d805146cc",
            "e2332348b3194ca3ab04b8d1a9a83e86",
            "17b883a533a44997ad51a70637eb2c7c",
            "b7b4d1bcb40f4d5bb44a3db03ac0364c",
            "4ec59b86731548248e57922a564cbbe9",
            "1ff033be01154138aa4e12e34cc75eb2",
            "d80381d6b6c04be7a0289953bdd8f7f0",
            "49884a8efd094a419ab21e36e49ede39",
            "a341bd4cbbcf4d3fac767643bf4736d7",
            "56fb56e33ca14b48895fe5d22f00440f",
            "099bc48debbd4bf794384fa76c3ffc25"
          ]
        },
        "id": "a0339637-6c06-42c8-afda-ad1499295e10",
        "outputId": "f80a0874-b395-494f-addf-8db1f90e72c6"
      },
      "outputs": [
        {
          "output_type": "display_data",
          "data": {
            "text/plain": [
              "Map:   0%|          | 0/832 [00:00<?, ? examples/s]"
            ],
            "application/vnd.jupyter.widget-view+json": {
              "version_major": 2,
              "version_minor": 0,
              "model_id": "37f6cbafc7b048ce80c9ef4d805146cc"
            }
          },
          "metadata": {}
        }
      ],
      "source": [
        "from transformers import AutoTokenizer, AutoModelForSequenceClassification, T5Tokenizer\n",
        "tokenizer =AutoTokenizer.from_pretrained(\"facebook/esm2_t6_8M_UR50D\")\n",
        "\n",
        "def tokenize_function(example):\n",
        "    return tokenizer(example[\"sequence\"], truncation=True, padding=\"max_length\", max_length=1024)\n",
        "\n",
        "tokenized_dataset = dataset.map(tokenize_function, batched=True)\n",
        "tokenized_dataset = tokenized_dataset.train_test_split(test_size=0.2)"
      ]
    },
    {
      "cell_type": "code",
      "execution_count": 15,
      "id": "83e0afc9-5af3-47c4-986d-e9eeec39c037",
      "metadata": {
        "colab": {
          "base_uri": "https://localhost:8080/"
        },
        "id": "83e0afc9-5af3-47c4-986d-e9eeec39c037",
        "outputId": "eeb7a2ad-9ca1-4024-f97b-0e5abadac70b"
      },
      "outputs": [
        {
          "output_type": "stream",
          "name": "stderr",
          "text": [
            "/tmp/ipython-input-1658139161.py:11: FutureWarning: `tokenizer` is deprecated and will be removed in version 5.0.0 for `Trainer.__init__`. Use `processing_class` instead.\n",
            "  trainer = Trainer(\n"
          ]
        }
      ],
      "source": [
        "from sklearn.metrics import accuracy_score\n",
        "\n",
        "def compute_metrics(eval_pred):\n",
        "    logits, labels = eval_pred\n",
        "    predictions = logits.argmax(axis=-1)\n",
        "    acc = accuracy_score(labels, predictions)\n",
        "    return {\"accuracy\": acc}\n",
        "\n",
        "from transformers import Trainer\n",
        "\n",
        "trainer = Trainer(\n",
        "    model=model,\n",
        "    args=training_args,\n",
        "    train_dataset=tokenized_dataset[\"train\"],\n",
        "    eval_dataset=tokenized_dataset[\"test\"],\n",
        "    tokenizer=tokenizer,\n",
        "    compute_metrics=compute_metrics,\n",
        ")"
      ]
    },
    {
      "cell_type": "code",
      "execution_count": 16,
      "id": "1ba99f73-0112-4409-b172-ce8b987df242",
      "metadata": {
        "colab": {
          "base_uri": "https://localhost:8080/",
          "height": 461
        },
        "id": "1ba99f73-0112-4409-b172-ce8b987df242",
        "outputId": "2016d76d-a2be-428c-ecd9-efca830a725b"
      },
      "outputs": [
        {
          "output_type": "stream",
          "name": "stderr",
          "text": [
            "The tokenizer has new PAD/BOS/EOS tokens that differ from the model config and generation config. The model config and generation config were aligned accordingly, being updated with the tokenizer's values. Updated tokens: {'eos_token_id': 2}.\n"
          ]
        },
        {
          "output_type": "display_data",
          "data": {
            "text/plain": [
              "<IPython.core.display.HTML object>"
            ],
            "text/html": [
              "\n",
              "    <div>\n",
              "      \n",
              "      <progress value='840' max='840' style='width:300px; height:20px; vertical-align: middle;'></progress>\n",
              "      [840/840 03:45, Epoch 10/10]\n",
              "    </div>\n",
              "    <table border=\"1\" class=\"dataframe\">\n",
              "  <thead>\n",
              " <tr style=\"text-align: left;\">\n",
              "      <th>Epoch</th>\n",
              "      <th>Training Loss</th>\n",
              "      <th>Validation Loss</th>\n",
              "      <th>Accuracy</th>\n",
              "    </tr>\n",
              "  </thead>\n",
              "  <tbody>\n",
              "    <tr>\n",
              "      <td>1</td>\n",
              "      <td>0.694400</td>\n",
              "      <td>0.677933</td>\n",
              "      <td>0.778443</td>\n",
              "    </tr>\n",
              "    <tr>\n",
              "      <td>2</td>\n",
              "      <td>0.657800</td>\n",
              "      <td>0.626000</td>\n",
              "      <td>0.742515</td>\n",
              "    </tr>\n",
              "    <tr>\n",
              "      <td>3</td>\n",
              "      <td>0.591800</td>\n",
              "      <td>0.543754</td>\n",
              "      <td>0.784431</td>\n",
              "    </tr>\n",
              "    <tr>\n",
              "      <td>4</td>\n",
              "      <td>0.507900</td>\n",
              "      <td>0.459671</td>\n",
              "      <td>0.874251</td>\n",
              "    </tr>\n",
              "    <tr>\n",
              "      <td>5</td>\n",
              "      <td>0.423100</td>\n",
              "      <td>0.394397</td>\n",
              "      <td>0.898204</td>\n",
              "    </tr>\n",
              "    <tr>\n",
              "      <td>6</td>\n",
              "      <td>0.369700</td>\n",
              "      <td>0.351823</td>\n",
              "      <td>0.898204</td>\n",
              "    </tr>\n",
              "    <tr>\n",
              "      <td>7</td>\n",
              "      <td>0.327900</td>\n",
              "      <td>0.326423</td>\n",
              "      <td>0.898204</td>\n",
              "    </tr>\n",
              "    <tr>\n",
              "      <td>8</td>\n",
              "      <td>0.301000</td>\n",
              "      <td>0.317321</td>\n",
              "      <td>0.886228</td>\n",
              "    </tr>\n",
              "    <tr>\n",
              "      <td>9</td>\n",
              "      <td>0.294000</td>\n",
              "      <td>0.311992</td>\n",
              "      <td>0.886228</td>\n",
              "    </tr>\n",
              "    <tr>\n",
              "      <td>10</td>\n",
              "      <td>0.283200</td>\n",
              "      <td>0.308595</td>\n",
              "      <td>0.886228</td>\n",
              "    </tr>\n",
              "  </tbody>\n",
              "</table><p>"
            ]
          },
          "metadata": {}
        },
        {
          "output_type": "execute_result",
          "data": {
            "text/plain": [
              "TrainOutput(global_step=840, training_loss=0.44508239201136995, metrics={'train_runtime': 227.0918, 'train_samples_per_second': 29.283, 'train_steps_per_second': 3.699, 'total_flos': 350849645260800.0, 'train_loss': 0.44508239201136995, 'epoch': 10.0})"
            ]
          },
          "metadata": {},
          "execution_count": 16
        }
      ],
      "source": [
        "import os\n",
        "os.environ[\"WANDB_DISABLED\"] = \"true\"\n",
        "\n",
        "trainer.train()"
      ]
    },
    {
      "cell_type": "code",
      "execution_count": 17,
      "id": "64c4b121-8a9b-4574-8d4f-89428fc53b36",
      "metadata": {
        "id": "64c4b121-8a9b-4574-8d4f-89428fc53b36"
      },
      "outputs": [],
      "source": [
        "#ADD THIS LINE FOR DEBUGGING\n",
        "#print(trainer.state.log_history)"
      ]
    },
    {
      "cell_type": "code",
      "execution_count": 18,
      "id": "5d41a381-4d99-4b4d-9804-c6e23e3acfa6",
      "metadata": {
        "id": "5d41a381-4d99-4b4d-9804-c6e23e3acfa6"
      },
      "outputs": [],
      "source": [
        "# #Extract Logs\n",
        "# train_loss = []\n",
        "# eval_loss = []\n",
        "# eval_accuracy = []\n",
        "# train_steps = []\n",
        "# eval_steps = []\n",
        "\n",
        "\n",
        "# for log in trainer.state.log_history:\n",
        "#     if 'loss' in log:\n",
        "#         train_loss.append(log['loss'])\n",
        "#         train_steps.append(log['step'])\n",
        "#     if 'eval_loss' in log:\n",
        "#         eval_loss.append(log['eval_loss'])\n",
        "#         eval_accuracy.append(log['eval_accuracy'])\n",
        "#         eval_steps.append(log['step'])"
      ]
    },
    {
      "cell_type": "code",
      "execution_count": 19,
      "id": "02454582-7a58-4f15-a5b9-0ce9bb1477cc",
      "metadata": {
        "id": "02454582-7a58-4f15-a5b9-0ce9bb1477cc"
      },
      "outputs": [],
      "source": [
        "# train_loss, eval_loss, eval_accuracy"
      ]
    },
    {
      "cell_type": "code",
      "execution_count": 20,
      "id": "6e9e4ac8-96e5-4539-8f12-8b813e2dc34f",
      "metadata": {
        "scrolled": true,
        "colab": {
          "base_uri": "https://localhost:8080/",
          "height": 307
        },
        "id": "6e9e4ac8-96e5-4539-8f12-8b813e2dc34f",
        "outputId": "e74bf6c0-e808-4795-d518-f9437d2d7c2e"
      },
      "outputs": [
        {
          "output_type": "display_data",
          "data": {
            "text/plain": [
              "<Figure size 500x300 with 2 Axes>"
            ],
            "image/png": "[encoded data removed]"
          },
          "metadata": {}
        }
      ],
      "source": [
        "import matplotlib.pyplot as plt\n",
        "\n",
        "# Example data; replace these with your real log-derived lists\n",
        "#epochs = [1, 2, 3, 4, 5]\n",
        "# train_loss = [0.5202, 0.309, 0.2708, 0.2419, 0.2284]\n",
        "# eval_loss = [0.4150600731372833, 0.3777799904346466,0.43656858801841736,0.36971646547317505,0.3870314955711365]\n",
        "# eval_accuracy = [0.8383233532934131,0.8622754491017964,0.874251497005988,0.8922155688622755,0.8922155688622755]\n",
        "\n",
        "\n",
        "train_loss, eval_loss, eval_accuracy, epochs = [], [], [], []\n",
        "\n",
        "for entry in trainer.state.log_history:\n",
        "    if \"loss\" in entry and \"epoch\" in entry:\n",
        "        train_loss.append(entry[\"loss\"])\n",
        "    if \"eval_loss\" in entry:\n",
        "        eval_loss.append(entry[\"eval_loss\"])\n",
        "    if \"eval_accuracy\" in entry:\n",
        "        eval_accuracy.append(entry[\"eval_accuracy\"])\n",
        "    if \"epoch\" in entry:\n",
        "        epochs.append(entry[\"epoch\"])\n",
        "\n",
        "# Make sure x-axis aligns\n",
        "x = list(range(1, len(train_loss)+1))\n",
        "\n",
        "fig, ax1 = plt.subplots(figsize=(5, 3))\n",
        "\n",
        "# Plot loss curves on the left y-axis\n",
        "ax1.set_xlabel('Epochs')\n",
        "ax1.set_ylabel('Loss')\n",
        "ax1.plot(x, train_loss,   marker='o')\n",
        "ax1.plot(x, eval_loss,   marker='s')\n",
        "ax1.set_xticks(x)\n",
        "ax1.tick_params(axis='y')\n",
        "\n",
        "# Instantiate a second axes sharing the same x-axis for accuracy\n",
        "ax2 = ax1.twinx()\n",
        "ax2.set_ylabel('Accuracy')\n",
        "ax2.plot(x, eval_accuracy, color='green', marker='^')\n",
        "ax2.tick_params(axis='y')\n",
        "\n",
        "# Combine legends\n",
        "lines_1, labels_1 = ax1.get_legend_handles_labels()\n",
        "lines_2, labels_2 = ax2.get_legend_handles_labels()\n",
        "#ax1.legend(lines_1 + lines_2, labels_1 + labels_2, loc='upper center')\n",
        "#ax2.set_ylim(0.8, 0.95)\n",
        "plt.title('LoRA ESM2 8M', fontsize=11)\n",
        "#plt.grid(True)\n",
        "plt.tight_layout()\n",
        "#plt.savefig('../Figures/With_LoRA/New/LoRA_ESM2_8M.png', dpi=400)  # Save the figure\n",
        "plt.show()"
      ]
    },
    {
      "cell_type": "code",
      "execution_count": 21,
      "id": "ff0cc1cf-2df0-4b2b-a2d9-d5c6fe3d3bf4",
      "metadata": {
        "id": "ff0cc1cf-2df0-4b2b-a2d9-d5c6fe3d3bf4"
      },
      "outputs": [],
      "source": [
        "# Directory to save\n",
        "# Save model, tokenzier, and Custom Head Classifier separately\n",
        "# The standard save_pretrained method from Transformers won’t automatically save the custom head class code.\n",
        "# We need to save both the model weights and the custom head properly.\n",
        "\n",
        "save_dir = \"Saved_Models/LoRA_ESM2_8M_model_with_custom_head\"\n",
        "\n",
        "# Save Hugging Face model weights (excluding custom head)\n",
        "model.save_pretrained(save_dir)\n",
        "tokenizer.save_pretrained(save_dir)\n",
        "\n",
        "# Save custom head weights separately\n",
        "torch.save(model.classifier.state_dict(), f\"{save_dir}/custom_head.pt\")"
      ]
    },
    {
      "cell_type": "markdown",
      "id": "c0046137-9568-4a15-b56a-8ad9d7332040",
      "metadata": {
        "id": "c0046137-9568-4a15-b56a-8ad9d7332040"
      },
      "source": [
        "## Inference"
      ]
    },
    {
      "cell_type": "code",
      "execution_count": 22,
      "id": "95b95ec7-3faa-4c9f-a3f7-529757dff917",
      "metadata": {
        "colab": {
          "base_uri": "https://localhost:8080/"
        },
        "id": "95b95ec7-3faa-4c9f-a3f7-529757dff917",
        "outputId": "9a779d69-b98f-46b4-c4d9-c26ee2d659b2"
      },
      "outputs": [
        {
          "output_type": "stream",
          "name": "stdout",
          "text": [
            "     name                                           sequence  label\n",
            "0  A6NJG6  MRNRMAPENPQPDPFINRNYSNMKVIPPQDPASPSFTLLSKLECSG...      1\n",
            "1  Q96QS3  MSNQYQEEGCSERPECKSKSPTLLSSYCIDSILGRRSPCKMRLLGA...      1\n",
            "2  Q8N100  MKSCKPSGPPAGARVAPPCAGGTECAGTCAGAGRLESAARRRLAAN...      1\n",
            "3  Q9NY43  MTMEGASGSSFGIDTILSSASSGSPGMMNGDFRPLGEARTADFRSQ...      1\n",
            "4  Q96T88  MWIQVRTMDGRQTHTVDSLSRLTKVEELRRKIQELFHVEPGLQRLF...      1\n",
            "\n",
            "Total sequences: 212\n"
          ]
        }
      ],
      "source": [
        "import pandas as pd\n",
        "from Bio import SeqIO\n",
        "import requests\n",
        "from io import StringIO\n",
        "\n",
        "# GitHub raw link\n",
        "url = 'https://raw.githubusercontent.com/MirTanveer/Fine-Tune-TF/main/Data/First_Layer_Independent.txt'\n",
        "\n",
        "# Fetch the data from GitHub\n",
        "response = requests.get(url)\n",
        "response.raise_for_status()  # ensure the download worked\n",
        "\n",
        "# Parse the FASTA data from the text\n",
        "sequences = []\n",
        "for record in SeqIO.parse(StringIO(response.text), \"fasta\"):\n",
        "    # Example header format: >seq1%someinfo%LABEL=1\n",
        "    description_parts = record.description.split(\"%\")\n",
        "    label = int(description_parts[-1].split(\"LABEL=\")[1])  # Extract numeric label\n",
        "    sequences.append([record.name, str(record.seq), label])\n",
        "\n",
        "# Create a DataFrame\n",
        "df_test= pd.DataFrame(sequences, columns=[\"name\", \"sequence\", \"label\"])\n",
        "\n",
        "# Display\n",
        "print(df_test.head())\n",
        "print(\"\\nTotal sequences:\", len(df_test))\n"
      ]
    },
    {
      "cell_type": "code",
      "execution_count": 23,
      "id": "05ec9dcb-144c-4861-8989-a79e1fb2d589",
      "metadata": {
        "id": "05ec9dcb-144c-4861-8989-a79e1fb2d589"
      },
      "outputs": [],
      "source": [
        "from datasets import Dataset\n",
        "\n",
        "df_test[\"label\"] = df_test[\"label\"].astype(int)\n",
        "test_dataset = Dataset.from_pandas(df_test)"
      ]
    },
    {
      "cell_type": "code",
      "execution_count": 24,
      "id": "b13b8b55-94e0-4f59-b2c8-e349e0ab89f7",
      "metadata": {
        "colab": {
          "base_uri": "https://localhost:8080/",
          "height": 49,
          "referenced_widgets": [
            "13dd7fcd0ef54facbe268bd18abe6b35",
            "8a4906de3bf04144a5dafbb335c4b693",
            "16be60a3ab994e7c9775260fd7f7bac8",
            "5cab509981714f08b002c220b5164a9b",
            "ea2a331f8512459fb8f7d0425ea1937f",
            "3ae36ff0234447a29e83bab3134e408d",
            "e20a81f33097449494c0418ac71d3030",
            "a3aff553f31842339251bd3e52bcdc24",
            "848456d072f149bea6523156ff007512",
            "fda482fb73a94a5ab5803a0cd60286ad",
            "61beae2b09544e30ad0640cc43dcc6f9"
          ]
        },
        "id": "b13b8b55-94e0-4f59-b2c8-e349e0ab89f7",
        "outputId": "ea951d67-3a76-4d65-8a88-6a789b7ff22a"
      },
      "outputs": [
        {
          "output_type": "display_data",
          "data": {
            "text/plain": [
              "Map:   0%|          | 0/212 [00:00<?, ? examples/s]"
            ],
            "application/vnd.jupyter.widget-view+json": {
              "version_major": 2,
              "version_minor": 0,
              "model_id": "13dd7fcd0ef54facbe268bd18abe6b35"
            }
          },
          "metadata": {}
        }
      ],
      "source": [
        "test_dataset = test_dataset.map(tokenize_function, batched=True)"
      ]
    },
    {
      "cell_type": "code",
      "execution_count": 25,
      "id": "1ee02e3b-9005-4b81-bc27-97632fa5487a",
      "metadata": {
        "colab": {
          "base_uri": "https://localhost:8080/",
          "height": 89
        },
        "id": "1ee02e3b-9005-4b81-bc27-97632fa5487a",
        "outputId": "470cb7e3-119d-4549-9a47-1d7e64b1eff1"
      },
      "outputs": [
        {
          "output_type": "stream",
          "name": "stderr",
          "text": [
            "/tmp/ipython-input-2552209075.py:3: FutureWarning: `tokenizer` is deprecated and will be removed in version 5.0.0 for `Trainer.__init__`. Use `processing_class` instead.\n",
            "  trainer_test = Trainer(model=model, tokenizer=tokenizer)\n",
            "Using the `WANDB_DISABLED` environment variable is deprecated and will be removed in v5. Use the --report_to flag to control the integrations used for logging result (for instance --report_to none).\n"
          ]
        },
        {
          "output_type": "display_data",
          "data": {
            "text/plain": [
              "<IPython.core.display.HTML object>"
            ],
            "text/html": []
          },
          "metadata": {}
        }
      ],
      "source": [
        "from transformers import Trainer\n",
        "\n",
        "trainer_test = Trainer(model=model, tokenizer=tokenizer)\n",
        "\n",
        "predictions = trainer_test.predict(test_dataset)"
      ]
    },
    {
      "cell_type": "code",
      "execution_count": 26,
      "id": "b4eacf36-de16-4258-986c-295e7f475013",
      "metadata": {
        "id": "b4eacf36-de16-4258-986c-295e7f475013"
      },
      "outputs": [],
      "source": [
        "import numpy as np\n",
        "import torch.nn.functional as F\n",
        "logits = predictions.predictions\n",
        "labels = predictions.label_ids\n",
        "preds = np.argmax(logits, axis=-1)\n",
        "probs = F.softmax(torch.tensor(logits), dim=-1).numpy()  # shape: [N, num_classes]\n"
      ]
    },
    {
      "cell_type": "code",
      "execution_count": 27,
      "id": "d09cbd0f-65b0-4c1c-9813-374565761e4c",
      "metadata": {
        "colab": {
          "base_uri": "https://localhost:8080/"
        },
        "id": "d09cbd0f-65b0-4c1c-9813-374565761e4c",
        "outputId": "cd143207-ca9b-461f-82e3-651786b1831e"
      },
      "outputs": [
        {
          "output_type": "stream",
          "name": "stdout",
          "text": [
            "Test Accuracy: 0.9198\n",
            "              precision    recall  f1-score   support\n",
            "\n",
            "           0       0.91      0.93      0.92       106\n",
            "           1       0.93      0.91      0.92       106\n",
            "\n",
            "    accuracy                           0.92       212\n",
            "   macro avg       0.92      0.92      0.92       212\n",
            "weighted avg       0.92      0.92      0.92       212\n",
            "\n"
          ]
        }
      ],
      "source": [
        "from sklearn.metrics import accuracy_score, classification_report\n",
        "\n",
        "acc = accuracy_score(labels, preds)\n",
        "print(f\"Test Accuracy: {acc:.4f}\")\n",
        "\n",
        "# Optional: detailed report\n",
        "print(classification_report(labels, preds))"
      ]
    },
    {
      "cell_type": "code",
      "source": [
        "from sklearn.metrics import ConfusionMatrixDisplay, confusion_matrix\n",
        "import seaborn as sns\n",
        "cm = confusion_matrix(labels, preds)\n",
        "plt.figure(figsize=(8, 6))\n",
        "sns.heatmap(cm, annot=True, fmt='d', cmap='Blues')\n",
        "plt.xlabel(\"Predicted Label\")\n",
        "plt.ylabel(\"True Label\")\n",
        "plt.title(\"Confusion Matrix\")\n",
        "plt.show()"
      ],
      "metadata": {
        "colab": {
          "base_uri": "https://localhost:8080/",
          "height": 564
        },
        "id": "Bdrk8fkS1ra9",
        "outputId": "94709f0c-e3b4-448d-ed1a-dd86eacae735"
      },
      "id": "Bdrk8fkS1ra9",
      "execution_count": 28,
      "outputs": [
        {
          "output_type": "display_data",
          "data": {
            "text/plain": [
              "<Figure size 800x600 with 2 Axes>"
            ],
            "image/png": "[encoded data removed]"
          },
          "metadata": {}
        }
      ]
    },
    {
      "cell_type": "code",
      "source": [
        "from sklearn.metrics import confusion_matrix, roc_auc_score, roc_curve\n",
        "auc = roc_auc_score(labels, probs[:, 1])\n",
        "print(f\"AUC Score (Binary): {auc:.4f}\")"
      ],
      "metadata": {
        "colab": {
          "base_uri": "https://localhost:8080/"
        },
        "id": "1Cyno3wc1yvI",
        "outputId": "89f27ed4-42c3-4715-cc30-a0a80219dfed"
      },
      "id": "1Cyno3wc1yvI",
      "execution_count": 29,
      "outputs": [
        {
          "output_type": "stream",
          "name": "stdout",
          "text": [
            "AUC Score (Binary): 0.9413\n"
          ]
        }
      ]
    },
    {
      "cell_type": "code",
      "source": [
        "TN, FP, FN, TP = cm.ravel()"
      ],
      "metadata": {
        "id": "9j1rXKs-174D"
      },
      "id": "9j1rXKs-174D",
      "execution_count": 30,
      "outputs": []
    },
    {
      "cell_type": "code",
      "source": [
        "precision = TP / (TP + FP) if (TP + FP) > 0 else 0\n",
        "specificity= TN / (TN + FP) if (TN + FP) > 0 else 0\n",
        "recall = TP / (TP + FN) if (TP + FN) > 0 else 0  # Recall = Sensitivity\n",
        "# Matthews correlation coefficient\n",
        "import numpy as np\n",
        "numerator = (TP * TN) - (FP * FN)\n",
        "denominator = np.sqrt((TP + FP)*(TP + FN)*(TN + FP)*(TN + FN))\n",
        "mcc = numerator / denominator if denominator > 0 else 0\n",
        "F1_score= (2*precision*recall)/(precision+recall)"
      ],
      "metadata": {
        "id": "cgbPqfk418xB"
      },
      "id": "cgbPqfk418xB",
      "execution_count": 31,
      "outputs": []
    },
    {
      "cell_type": "code",
      "source": [
        "print(\"Precision value is: \", precision)\n",
        "print(\"Specificity value is: \", specificity)\n",
        "print(\"Recall value is: \", recall)\n",
        "print(\"Mcc score is: \", mcc)\n",
        "print(\"F1 Score is: \", F1_score)"
      ],
      "metadata": {
        "colab": {
          "base_uri": "https://localhost:8080/"
        },
        "id": "RRbncvZ119Te",
        "outputId": "fb0ec812-c10d-4fe6-c4c2-3af38bd2966d"
      },
      "id": "RRbncvZ119Te",
      "execution_count": 32,
      "outputs": [
        {
          "output_type": "stream",
          "name": "stdout",
          "text": [
            "Precision value is:  0.9320388349514563\n",
            "Specificity value is:  0.9339622641509434\n",
            "Recall value is:  0.9056603773584906\n",
            "Mcc score is:  0.8399591111791317\n",
            "F1 Score is:  0.9186602870813397\n"
          ]
        }
      ]
    }
  ],
  "metadata": {
    "kernelspec": {
      "display_name": "Python 3",
      "name": "python3"
    },
    "language_info": {
      "codemirror_mode": {
        "name": "ipython",
        "version": 3
      },
      "file_extension": ".py",
      "mimetype": "text/x-python",
      "name": "python",
      "nbconvert_exporter": "python",
      "pygments_lexer": "ipython3",
      "version": "3.12.7"
    },
    "colab": {
      "provenance": [],
      "gpuType": "T4"
    },
    "accelerator": "GPU",
    "widgets": {
      "application/vnd.jupyter.widget-state+json": {
        "37f6cbafc7b048ce80c9ef4d805146cc": {
          "model_module": "@jupyter-widgets/controls",
          "model_name": "HBoxModel",
          "model_module_version": "1.5.0",
          "state": {
            "_dom_classes": [],
            "_model_module": "@jupyter-widgets/controls",
            "_model_module_version": "1.5.0",
            "_model_name": "HBoxModel",
            "_view_count": null,
            "_view_module": "@jupyter-widgets/controls",
            "_view_module_version": "1.5.0",
            "_view_name": "HBoxView",
            "box_style": "",
            "children": [
              "IPY_MODEL_e2332348b3194ca3ab04b8d1a9a83e86",
              "IPY_MODEL_17b883a533a44997ad51a70637eb2c7c",
              "IPY_MODEL_b7b4d1bcb40f4d5bb44a3db03ac0364c"
            ],
            "layout": "IPY_MODEL_4ec59b86731548248e57922a564cbbe9"
          }
        },
        "e2332348b3194ca3ab04b8d1a9a83e86": {
          "model_module": "@jupyter-widgets/controls",
          "model_name": "HTMLModel",
          "model_module_version": "1.5.0",
          "state": {
            "_dom_classes": [],
            "_model_module": "@jupyter-widgets/controls",
            "_model_module_version": "1.5.0",
            "_model_name": "HTMLModel",
            "_view_count": null,
            "_view_module": "@jupyter-widgets/controls",
            "_view_module_version": "1.5.0",
            "_view_name": "HTMLView",
            "description": "",
            "description_tooltip": null,
            "layout": "IPY_MODEL_1ff033be01154138aa4e12e34cc75eb2",
            "placeholder": "​",
            "style": "IPY_MODEL_d80381d6b6c04be7a0289953bdd8f7f0",
            "value": "Map: 100%"
          }
        },
        "17b883a533a44997ad51a70637eb2c7c": {
          "model_module": "@jupyter-widgets/controls",
          "model_name": "FloatProgressModel",
          "model_module_version": "1.5.0",
          "state": {
            "_dom_classes": [],
            "_model_module": "@jupyter-widgets/controls",
            "_model_module_version": "1.5.0",
            "_model_name": "FloatProgressModel",
            "_view_count": null,
            "_view_module": "@jupyter-widgets/controls",
            "_view_module_version": "1.5.0",
            "_view_name": "ProgressView",
            "bar_style": "success",
            "description": "",
            "description_tooltip": null,
            "layout": "IPY_MODEL_49884a8efd094a419ab21e36e49ede39",
            "max": 832,
            "min": 0,
            "orientation": "horizontal",
            "style": "IPY_MODEL_a341bd4cbbcf4d3fac767643bf4736d7",
            "value": 832
          }
        },
        "b7b4d1bcb40f4d5bb44a3db03ac0364c": {
          "model_module": "@jupyter-widgets/controls",
          "model_name": "HTMLModel",
          "model_module_version": "1.5.0",
          "state": {
            "_dom_classes": [],
            "_model_module": "@jupyter-widgets/controls",
            "_model_module_version": "1.5.0",
            "_model_name": "HTMLModel",
            "_view_count": null,
            "_view_module": "@jupyter-widgets/controls",
            "_view_module_version": "1.5.0",
            "_view_name": "HTMLView",
            "description": "",
            "description_tooltip": null,
            "layout": "IPY_MODEL_56fb56e33ca14b48895fe5d22f00440f",
            "placeholder": "​",
            "style": "IPY_MODEL_099bc48debbd4bf794384fa76c3ffc25",
            "value": " 832/832 [00:03&lt;00:00, 247.70 examples/s]"
          }
        },
        "4ec59b86731548248e57922a564cbbe9": {
          "model_module": "@jupyter-widgets/base",
          "model_name": "LayoutModel",
          "model_module_version": "1.2.0",
          "state": {
            "_model_module": "@jupyter-widgets/base",
            "_model_module_version": "1.2.0",
            "_model_name": "LayoutModel",
            "_view_count": null,
            "_view_module": "@jupyter-widgets/base",
            "_view_module_version": "1.2.0",
            "_view_name": "LayoutView",
            "align_content": null,
            "align_items": null,
            "align_self": null,
            "border": null,
            "bottom": null,
            "display": null,
            "flex": null,
            "flex_flow": null,
            "grid_area": null,
            "grid_auto_columns": null,
            "grid_auto_flow": null,
            "grid_auto_rows": null,
            "grid_column": null,
            "grid_gap": null,
            "grid_row": null,
            "grid_template_areas": null,
            "grid_template_columns": null,
            "grid_template_rows": null,
            "height": null,
            "justify_content": null,
            "justify_items": null,
            "left": null,
            "margin": null,
            "max_height": null,
            "max_width": null,
            "min_height": null,
            "min_width": null,
            "object_fit": null,
            "object_position": null,
            "order": null,
            "overflow": null,
            "overflow_x": null,
            "overflow_y": null,
            "padding": null,
            "right": null,
            "top": null,
            "visibility": null,
            "width": null
          }
        },
        "1ff033be01154138aa4e12e34cc75eb2": {
          "model_module": "@jupyter-widgets/base",
          "model_name": "LayoutModel",
          "model_module_version": "1.2.0",
          "state": {
            "_model_module": "@jupyter-widgets/base",
            "_model_module_version": "1.2.0",
            "_model_name": "LayoutModel",
            "_view_count": null,
            "_view_module": "@jupyter-widgets/base",
            "_view_module_version": "1.2.0",
            "_view_name": "LayoutView",
            "align_content": null,
            "align_items": null,
            "align_self": null,
            "border": null,
            "bottom": null,
            "display": null,
            "flex": null,
            "flex_flow": null,
            "grid_area": null,
            "grid_auto_columns": null,
            "grid_auto_flow": null,
            "grid_auto_rows": null,
            "grid_column": null,
            "grid_gap": null,
            "grid_row": null,
            "grid_template_areas": null,
            "grid_template_columns": null,
            "grid_template_rows": null,
            "height": null,
            "justify_content": null,
            "justify_items": null,
            "left": null,
            "margin": null,
            "max_height": null,
            "max_width": null,
            "min_height": null,
            "min_width": null,
            "object_fit": null,
            "object_position": null,
            "order": null,
            "overflow": null,
            "overflow_x": null,
            "overflow_y": null,
            "padding": null,
            "right": null,
            "top": null,
            "visibility": null,
            "width": null
          }
        },
        "d80381d6b6c04be7a0289953bdd8f7f0": {
          "model_module": "@jupyter-widgets/controls",
          "model_name": "DescriptionStyleModel",
          "model_module_version": "1.5.0",
          "state": {
            "_model_module": "@jupyter-widgets/controls",
            "_model_module_version": "1.5.0",
            "_model_name": "DescriptionStyleModel",
            "_view_count": null,
            "_view_module": "@jupyter-widgets/base",
            "_view_module_version": "1.2.0",
            "_view_name": "StyleView",
            "description_width": ""
          }
        },
        "49884a8efd094a419ab21e36e49ede39": {
          "model_module": "@jupyter-widgets/base",
          "model_name": "LayoutModel",
          "model_module_version": "1.2.0",
          "state": {
            "_model_module": "@jupyter-widgets/base",
            "_model_module_version": "1.2.0",
            "_model_name": "LayoutModel",
            "_view_count": null,
            "_view_module": "@jupyter-widgets/base",
            "_view_module_version": "1.2.0",
            "_view_name": "LayoutView",
            "align_content": null,
            "align_items": null,
            "align_self": null,
            "border": null,
            "bottom": null,
            "display": null,
            "flex": null,
            "flex_flow": null,
            "grid_area": null,
            "grid_auto_columns": null,
            "grid_auto_flow": null,
            "grid_auto_rows": null,
            "grid_column": null,
            "grid_gap": null,
            "grid_row": null,
            "grid_template_areas": null,
            "grid_template_columns": null,
            "grid_template_rows": null,
            "height": null,
            "justify_content": null,
            "justify_items": null,
            "left": null,
            "margin": null,
            "max_height": null,
            "max_width": null,
            "min_height": null,
            "min_width": null,
            "object_fit": null,
            "object_position": null,
            "order": null,
            "overflow": null,
            "overflow_x": null,
            "overflow_y": null,
            "padding": null,
            "right": null,
            "top": null,
            "visibility": null,
            "width": null
          }
        },
        "a341bd4cbbcf4d3fac767643bf4736d7": {
          "model_module": "@jupyter-widgets/controls",
          "model_name": "ProgressStyleModel",
          "model_module_version": "1.5.0",
          "state": {
            "_model_module": "@jupyter-widgets/controls",
            "_model_module_version": "1.5.0",
            "_model_name": "ProgressStyleModel",
            "_view_count": null,
            "_view_module": "@jupyter-widgets/base",
            "_view_module_version": "1.2.0",
            "_view_name": "StyleView",
            "bar_color": null,
            "description_width": ""
          }
        },
        "56fb56e33ca14b48895fe5d22f00440f": {
          "model_module": "@jupyter-widgets/base",
          "model_name": "LayoutModel",
          "model_module_version": "1.2.0",
          "state": {
            "_model_module": "@jupyter-widgets/base",
            "_model_module_version": "1.2.0",
            "_model_name": "LayoutModel",
            "_view_count": null,
            "_view_module": "@jupyter-widgets/base",
            "_view_module_version": "1.2.0",
            "_view_name": "LayoutView",
            "align_content": null,
            "align_items": null,
            "align_self": null,
            "border": null,
            "bottom": null,
            "display": null,
            "flex": null,
            "flex_flow": null,
            "grid_area": null,
            "grid_auto_columns": null,
            "grid_auto_flow": null,
            "grid_auto_rows": null,
            "grid_column": null,
            "grid_gap": null,
            "grid_row": null,
            "grid_template_areas": null,
            "grid_template_columns": null,
            "grid_template_rows": null,
            "height": null,
            "justify_content": null,
            "justify_items": null,
            "left": null,
            "margin": null,
            "max_height": null,
            "max_width": null,
            "min_height": null,
            "min_width": null,
            "object_fit": null,
            "object_position": null,
            "order": null,
            "overflow": null,
            "overflow_x": null,
            "overflow_y": null,
            "padding": null,
            "right": null,
            "top": null,
            "visibility": null,
            "width": null
          }
        },
        "099bc48debbd4bf794384fa76c3ffc25": {
          "model_module": "@jupyter-widgets/controls",
          "model_name": "DescriptionStyleModel",
          "model_module_version": "1.5.0",
          "state": {
            "_model_module": "@jupyter-widgets/controls",
            "_model_module_version": "1.5.0",
            "_model_name": "DescriptionStyleModel",
            "_view_count": null,
            "_view_module": "@jupyter-widgets/base",
            "_view_module_version": "1.2.0",
            "_view_name": "StyleView",
            "description_width": ""
          }
        },
        "13dd7fcd0ef54facbe268bd18abe6b35": {
          "model_module": "@jupyter-widgets/controls",
          "model_name": "HBoxModel",
          "model_module_version": "1.5.0",
          "state": {
            "_dom_classes": [],
            "_model_module": "@jupyter-widgets/controls",
            "_model_module_version": "1.5.0",
            "_model_name": "HBoxModel",
            "_view_count": null,
            "_view_module": "@jupyter-widgets/controls",
            "_view_module_version": "1.5.0",
            "_view_name": "HBoxView",
            "box_style": "",
            "children": [
              "IPY_MODEL_8a4906de3bf04144a5dafbb335c4b693",
              "IPY_MODEL_16be60a3ab994e7c9775260fd7f7bac8",
              "IPY_MODEL_5cab509981714f08b002c220b5164a9b"
            ],
            "layout": "IPY_MODEL_ea2a331f8512459fb8f7d0425ea1937f"
          }
        },
        "8a4906de3bf04144a5dafbb335c4b693": {
          "model_module": "@jupyter-widgets/controls",
          "model_name": "HTMLModel",
          "model_module_version": "1.5.0",
          "state": {
            "_dom_classes": [],
            "_model_module": "@jupyter-widgets/controls",
            "_model_module_version": "1.5.0",
            "_model_name": "HTMLModel",
            "_view_count": null,
            "_view_module": "@jupyter-widgets/controls",
            "_view_module_version": "1.5.0",
            "_view_name": "HTMLView",
            "description": "",
            "description_tooltip": null,
            "layout": "IPY_MODEL_3ae36ff0234447a29e83bab3134e408d",
            "placeholder": "​",
            "style": "IPY_MODEL_e20a81f33097449494c0418ac71d3030",
            "value": "Map: 100%"
          }
        },
        "16be60a3ab994e7c9775260fd7f7bac8": {
          "model_module": "@jupyter-widgets/controls",
          "model_name": "FloatProgressModel",
          "model_module_version": "1.5.0",
          "state": {
            "_dom_classes": [],
            "_model_module": "@jupyter-widgets/controls",
            "_model_module_version": "1.5.0",
            "_model_name": "FloatProgressModel",
            "_view_count": null,
            "_view_module": "@jupyter-widgets/controls",
            "_view_module_version": "1.5.0",
            "_view_name": "ProgressView",
            "bar_style": "success",
            "description": "",
            "description_tooltip": null,
            "layout": "IPY_MODEL_a3aff553f31842339251bd3e52bcdc24",
            "max": 212,
            "min": 0,
            "orientation": "horizontal",
            "style": "IPY_MODEL_848456d072f149bea6523156ff007512",
            "value": 212
          }
        },
        "5cab509981714f08b002c220b5164a9b": {
          "model_module": "@jupyter-widgets/controls",
          "model_name": "HTMLModel",
          "model_module_version": "1.5.0",
          "state": {
            "_dom_classes": [],
            "_model_module": "@jupyter-widgets/controls",
            "_model_module_version": "1.5.0",
            "_model_name": "HTMLModel",
            "_view_count": null,
            "_view_module": "@jupyter-widgets/controls",
            "_view_module_version": "1.5.0",
            "_view_name": "HTMLView",
            "description": "",
            "description_tooltip": null,
            "layout": "IPY_MODEL_fda482fb73a94a5ab5803a0cd60286ad",
            "placeholder": "​",
            "style": "IPY_MODEL_61beae2b09544e30ad0640cc43dcc6f9",
            "value": " 212/212 [00:00&lt;00:00, 487.90 examples/s]"
          }
        },
        "ea2a331f8512459fb8f7d0425ea1937f": {
          "model_module": "@jupyter-widgets/base",
          "model_name": "LayoutModel",
          "model_module_version": "1.2.0",
          "state": {
            "_model_module": "@jupyter-widgets/base",
            "_model_module_version": "1.2.0",
            "_model_name": "LayoutModel",
            "_view_count": null,
            "_view_module": "@jupyter-widgets/base",
            "_view_module_version": "1.2.0",
            "_view_name": "LayoutView",
            "align_content": null,
            "align_items": null,
            "align_self": null,
            "border": null,
            "bottom": null,
            "display": null,
            "flex": null,
            "flex_flow": null,
            "grid_area": null,
            "grid_auto_columns": null,
            "grid_auto_flow": null,
            "grid_auto_rows": null,
            "grid_column": null,
            "grid_gap": null,
            "grid_row": null,
            "grid_template_areas": null,
            "grid_template_columns": null,
            "grid_template_rows": null,
            "height": null,
            "justify_content": null,
            "justify_items": null,
            "left": null,
            "margin": null,
            "max_height": null,
            "max_width": null,
            "min_height": null,
            "min_width": null,
            "object_fit": null,
            "object_position": null,
            "order": null,
            "overflow": null,
            "overflow_x": null,
            "overflow_y": null,
            "padding": null,
            "right": null,
            "top": null,
            "visibility": null,
            "width": null
          }
        },
        "3ae36ff0234447a29e83bab3134e408d": {
          "model_module": "@jupyter-widgets/base",
          "model_name": "LayoutModel",
          "model_module_version": "1.2.0",
          "state": {
            "_model_module": "@jupyter-widgets/base",
            "_model_module_version": "1.2.0",
            "_model_name": "LayoutModel",
            "_view_count": null,
            "_view_module": "@jupyter-widgets/base",
            "_view_module_version": "1.2.0",
            "_view_name": "LayoutView",
            "align_content": null,
            "align_items": null,
            "align_self": null,
            "border": null,
            "bottom": null,
            "display": null,
            "flex": null,
            "flex_flow": null,
            "grid_area": null,
            "grid_auto_columns": null,
            "grid_auto_flow": null,
            "grid_auto_rows": null,
            "grid_column": null,
            "grid_gap": null,
            "grid_row": null,
            "grid_template_areas": null,
            "grid_template_columns": null,
            "grid_template_rows": null,
            "height": null,
            "justify_content": null,
            "justify_items": null,
            "left": null,
            "margin": null,
            "max_height": null,
            "max_width": null,
            "min_height": null,
            "min_width": null,
            "object_fit": null,
            "object_position": null,
            "order": null,
            "overflow": null,
            "overflow_x": null,
            "overflow_y": null,
            "padding": null,
            "right": null,
            "top": null,
            "visibility": null,
            "width": null
          }
        },
        "e20a81f33097449494c0418ac71d3030": {
          "model_module": "@jupyter-widgets/controls",
          "model_name": "DescriptionStyleModel",
          "model_module_version": "1.5.0",
          "state": {
            "_model_module": "@jupyter-widgets/controls",
            "_model_module_version": "1.5.0",
            "_model_name": "DescriptionStyleModel",
            "_view_count": null,
            "_view_module": "@jupyter-widgets/base",
            "_view_module_version": "1.2.0",
            "_view_name": "StyleView",
            "description_width": ""
          }
        },
        "a3aff553f31842339251bd3e52bcdc24": {
          "model_module": "@jupyter-widgets/base",
          "model_name": "LayoutModel",
          "model_module_version": "1.2.0",
          "state": {
            "_model_module": "@jupyter-widgets/base",
            "_model_module_version": "1.2.0",
            "_model_name": "LayoutModel",
            "_view_count": null,
            "_view_module": "@jupyter-widgets/base",
            "_view_module_version": "1.2.0",
            "_view_name": "LayoutView",
            "align_content": null,
            "align_items": null,
            "align_self": null,
            "border": null,
            "bottom": null,
            "display": null,
            "flex": null,
            "flex_flow": null,
            "grid_area": null,
            "grid_auto_columns": null,
            "grid_auto_flow": null,
            "grid_auto_rows": null,
            "grid_column": null,
            "grid_gap": null,
            "grid_row": null,
            "grid_template_areas": null,
            "grid_template_columns": null,
            "grid_template_rows": null,
            "height": null,
            "justify_content": null,
            "justify_items": null,
            "left": null,
            "margin": null,
            "max_height": null,
            "max_width": null,
            "min_height": null,
            "min_width": null,
            "object_fit": null,
            "object_position": null,
            "order": null,
            "overflow": null,
            "overflow_x": null,
            "overflow_y": null,
            "padding": null,
            "right": null,
            "top": null,
            "visibility": null,
            "width": null
          }
        },
        "848456d072f149bea6523156ff007512": {
          "model_module": "@jupyter-widgets/controls",
          "model_name": "ProgressStyleModel",
          "model_module_version": "1.5.0",
          "state": {
            "_model_module": "@jupyter-widgets/controls",
            "_model_module_version": "1.5.0",
            "_model_name": "ProgressStyleModel",
            "_view_count": null,
            "_view_module": "@jupyter-widgets/base",
            "_view_module_version": "1.2.0",
            "_view_name": "StyleView",
            "bar_color": null,
            "description_width": ""
          }
        },
        "fda482fb73a94a5ab5803a0cd60286ad": {
          "model_module": "@jupyter-widgets/base",
          "model_name": "LayoutModel",
          "model_module_version": "1.2.0",
          "state": {
            "_model_module": "@jupyter-widgets/base",
            "_model_module_version": "1.2.0",
            "_model_name": "LayoutModel",
            "_view_count": null,
            "_view_module": "@jupyter-widgets/base",
            "_view_module_version": "1.2.0",
            "_view_name": "LayoutView",
            "align_content": null,
            "align_items": null,
            "align_self": null,
            "border": null,
            "bottom": null,
            "display": null,
            "flex": null,
            "flex_flow": null,
            "grid_area": null,
            "grid_auto_columns": null,
            "grid_auto_flow": null,
            "grid_auto_rows": null,
            "grid_column": null,
            "grid_gap": null,
            "grid_row": null,
            "grid_template_areas": null,
            "grid_template_columns": null,
            "grid_template_rows": null,
            "height": null,
            "justify_content": null,
            "justify_items": null,
            "left": null,
            "margin": null,
            "max_height": null,
            "max_width": null,
            "min_height": null,
            "min_width": null,
            "object_fit": null,
            "object_position": null,
            "order": null,
            "overflow": null,
            "overflow_x": null,
            "overflow_y": null,
            "padding": null,
            "right": null,
            "top": null,
            "visibility": null,
            "width": null
          }
        },
        "61beae2b09544e30ad0640cc43dcc6f9": {
          "model_module": "@jupyter-widgets/controls",
          "model_name": "DescriptionStyleModel",
          "model_module_version": "1.5.0",
          "state": {
            "_model_module": "@jupyter-widgets/controls",
            "_model_module_version": "1.5.0",
            "_model_name": "DescriptionStyleModel",
            "_view_count": null,
            "_view_module": "@jupyter-widgets/base",
            "_view_module_version": "1.2.0",
            "_view_name": "StyleView",
            "description_width": ""
          }
        }
      }
    }
  },
  "nbformat": 4,
  "nbformat_minor": 5
}